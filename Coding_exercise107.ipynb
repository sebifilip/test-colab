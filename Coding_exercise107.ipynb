{
  "nbformat": 4,
  "nbformat_minor": 0,
  "metadata": {
    "colab": {
      "name": "Coding_exercise107.ipynb",
      "provenance": [],
      "collapsed_sections": [],
      "authorship_tag": "ABX9TyOj7s8odaFfma90Byj6Fu59",
      "include_colab_link": true
    },
    "kernelspec": {
      "name": "python3",
      "display_name": "Python 3"
    },
    "language_info": {
      "name": "python"
    }
  },
  "cells": [
    {
      "cell_type": "markdown",
      "metadata": {
        "id": "view-in-github",
        "colab_type": "text"
      },
      "source": [
        "<a href=\"https://colab.research.google.com/github/sebifilip/test-colab/blob/main/Coding_exercise107.ipynb\" target=\"_parent\"><img src=\"https://colab.research.google.com/assets/colab-badge.svg\" alt=\"Open In Colab\"/></a>"
      ]
    },
    {
      "cell_type": "code",
      "metadata": {
        "colab": {
          "base_uri": "https://localhost:8080/"
        },
        "id": "1O9tJnpLik_W",
        "outputId": "45584716-85bb-4827-dd52-147ab14eb1ca"
      },
      "source": [
        "class Container:\n",
        "    pass\n",
        "\n",
        "\n",
        "class PlasticContainer(Container):\n",
        "    pass\n",
        "\n",
        "\n",
        "class MetalContainer(Container):\n",
        "    pass\n",
        "\n",
        "\n",
        "class CustomContainer:\n",
        "    pass\n",
        "\n",
        "\n",
        "print(issubclass(PlasticContainer, Container))\n",
        "print(issubclass(MetalContainer, Container))\n",
        "print(issubclass(CustomContainer, Container))"
      ],
      "execution_count": 2,
      "outputs": [
        {
          "output_type": "stream",
          "text": [
            "True\n",
            "True\n",
            "False\n"
          ],
          "name": "stdout"
        }
      ]
    }
  ]
}
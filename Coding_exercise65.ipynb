{
  "nbformat": 4,
  "nbformat_minor": 0,
  "metadata": {
    "colab": {
      "name": "Coding_exercise65.ipynb",
      "provenance": [],
      "collapsed_sections": [],
      "authorship_tag": "ABX9TyNid1Wyyn1YmFagIayWqxxG",
      "include_colab_link": true
    },
    "kernelspec": {
      "name": "python3",
      "display_name": "Python 3"
    },
    "language_info": {
      "name": "python"
    }
  },
  "cells": [
    {
      "cell_type": "markdown",
      "metadata": {
        "id": "view-in-github",
        "colab_type": "text"
      },
      "source": [
        "<a href=\"https://colab.research.google.com/github/sebifilip/test-colab/blob/main/Coding_exercise65.ipynb\" target=\"_parent\"><img src=\"https://colab.research.google.com/assets/colab-badge.svg\" alt=\"Open In Colab\"/></a>"
      ]
    },
    {
      "cell_type": "code",
      "metadata": {
        "colab": {
          "base_uri": "https://localhost:8080/"
        },
        "id": "ShfPk-ys0a6T",
        "outputId": "cedd6958-4974-452f-ec0c-3af3b6ed3d64"
      },
      "source": [
        "class Pet:\n",
        "\n",
        "  def __init__(self, name):\n",
        "    self._name = name\n",
        "\n",
        "  def name(self):\n",
        "    return self._name\n",
        "\n",
        "\n",
        "pet = Pet(\"Max\")\n",
        "print(pet.__dict__)"
      ],
      "execution_count": 1,
      "outputs": [
        {
          "output_type": "stream",
          "text": [
            "{'_name': 'Max'}\n"
          ],
          "name": "stdout"
        }
      ]
    }
  ]
}
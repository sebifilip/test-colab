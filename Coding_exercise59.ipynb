{
  "nbformat": 4,
  "nbformat_minor": 0,
  "metadata": {
    "colab": {
      "name": "Coding_exercise59.ipynb",
      "provenance": [],
      "collapsed_sections": [],
      "authorship_tag": "ABX9TyMlsMlVWm/vktqzcLi+Lb17",
      "include_colab_link": true
    },
    "kernelspec": {
      "name": "python3",
      "display_name": "Python 3"
    },
    "language_info": {
      "name": "python"
    }
  },
  "cells": [
    {
      "cell_type": "markdown",
      "metadata": {
        "id": "view-in-github",
        "colab_type": "text"
      },
      "source": [
        "<a href=\"https://colab.research.google.com/github/sebifilip/test-colab/blob/main/Coding_exercise59.ipynb\" target=\"_parent\"><img src=\"https://colab.research.google.com/assets/colab-badge.svg\" alt=\"Open In Colab\"/></a>"
      ]
    },
    {
      "cell_type": "code",
      "metadata": {
        "colab": {
          "base_uri": "https://localhost:8080/"
        },
        "id": "lID0-pGVnpAW",
        "outputId": "493a739d-e09c-4cf1-93db-af3b2448dcbc"
      },
      "source": [
        "class Laptop:\n",
        "\n",
        "    def __init__(self, price):\n",
        "        self.set_price(price)\n",
        "\n",
        "    def get_price(self):\n",
        "        return self._price\n",
        "\n",
        "    def set_price(self, value):\n",
        "        \n",
        "        if not isinstance(value, (int, float)):\n",
        "            raise TypeError('The price attribute must be an int or float type.')\n",
        "        \n",
        "        if not value > 0:\n",
        "            raise ValueError('The price attribute must be a positive int or '\n",
        "                'float value.')\n",
        "        \n",
        "        self._price = value\n",
        "\n",
        "try:\n",
        "  laptop = Laptop(-3499)\n",
        "except ValueError as error:\n",
        "  print(error)"
      ],
      "execution_count": 1,
      "outputs": [
        {
          "output_type": "stream",
          "text": [
            "The price attribute must be a positive int or float value.\n"
          ],
          "name": "stdout"
        }
      ]
    }
  ]
}
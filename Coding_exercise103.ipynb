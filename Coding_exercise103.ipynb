{
  "nbformat": 4,
  "nbformat_minor": 0,
  "metadata": {
    "colab": {
      "name": "Coding_exercise103.ipynb",
      "provenance": [],
      "collapsed_sections": [],
      "authorship_tag": "ABX9TyMb1o0v+mbegaU/FGD8KEuh",
      "include_colab_link": true
    },
    "kernelspec": {
      "name": "python3",
      "display_name": "Python 3"
    },
    "language_info": {
      "name": "python"
    }
  },
  "cells": [
    {
      "cell_type": "markdown",
      "metadata": {
        "id": "view-in-github",
        "colab_type": "text"
      },
      "source": [
        "<a href=\"https://colab.research.google.com/github/sebifilip/test-colab/blob/main/Coding_exercise103.ipynb\" target=\"_parent\"><img src=\"https://colab.research.google.com/assets/colab-badge.svg\" alt=\"Open In Colab\"/></a>"
      ]
    },
    {
      "cell_type": "code",
      "metadata": {
        "colab": {
          "base_uri": "https://localhost:8080/"
        },
        "id": "NnGXYH4JfDdp",
        "outputId": "f67e9f36-702b-41b4-91ce-0f14ccbe1caf"
      },
      "source": [
        "class Doc:\n",
        "\n",
        "    def __init__(self, string):\n",
        "        self.string = string\n",
        "\n",
        "    def __repr__(self):\n",
        "        return f\"Doc(string='{self.string}')\"\n",
        "\n",
        "    def __str__(self):\n",
        "        return f'{self.string}'\n",
        "\n",
        "    def __add__(self, other):\n",
        "        return Doc(self.string + ' ' + other.string)\n",
        "\n",
        "    def __lt__(self, other):\n",
        "        return len(self.string) < len(other.string)\n",
        "\n",
        "\n",
        "doc1 = Doc(\"Sport\")\n",
        "doc2 = Doc(\"Activity\")\n",
        "\n",
        "print(doc1 < doc2)"
      ],
      "execution_count": 1,
      "outputs": [
        {
          "output_type": "stream",
          "text": [
            "True\n"
          ],
          "name": "stdout"
        }
      ]
    }
  ]
}
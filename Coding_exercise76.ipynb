{
  "nbformat": 4,
  "nbformat_minor": 0,
  "metadata": {
    "colab": {
      "name": "Coding_exercise76.ipynb",
      "provenance": [],
      "collapsed_sections": [],
      "authorship_tag": "ABX9TyOFYHxS6VG2Kp7cgtZ2WQ3r",
      "include_colab_link": true
    },
    "kernelspec": {
      "name": "python3",
      "display_name": "Python 3"
    },
    "language_info": {
      "name": "python"
    }
  },
  "cells": [
    {
      "cell_type": "markdown",
      "metadata": {
        "id": "view-in-github",
        "colab_type": "text"
      },
      "source": [
        "<a href=\"https://colab.research.google.com/github/sebifilip/test-colab/blob/main/Coding_exercise76.ipynb\" target=\"_parent\"><img src=\"https://colab.research.google.com/assets/colab-badge.svg\" alt=\"Open In Colab\"/></a>"
      ]
    },
    {
      "cell_type": "code",
      "metadata": {
        "id": "cZUfBeAYxBff",
        "colab": {
          "base_uri": "https://localhost:8080/"
        },
        "outputId": "80e8f46b-a8ad-40f2-b508-bffe5eaee46d"
      },
      "source": [
        "class Rectangle:\n",
        "    \n",
        "    def __init__(self, width, height):\n",
        "        self._width = width\n",
        "        self._height = height\n",
        "        self._area = None\n",
        "\n",
        "    @property\n",
        "    def width(self):\n",
        "        return self._width\n",
        "\n",
        "    @width.setter\n",
        "    def width(self, value):\n",
        "        self._width = value\n",
        "\n",
        "    @property\n",
        "    def height(self):\n",
        "        return self._height\n",
        "\n",
        "    @height.setter\n",
        "    def width(self, value):\n",
        "        self._height = value\n",
        "\n",
        "    @property\n",
        "    def area(self):\n",
        "        if self._area == None:\n",
        "            self._area = self._width * self._height\n",
        "        return self._area\n",
        "\n",
        "rectangle = Rectangle(3, 4)\n",
        "print(f'width: {rectangle.width}, ' \n",
        "      f'height: {rectangle.height} -> area: {rectangle.area}')\n",
        "\n",
        "\n",
        "\n",
        "    \n",
        "        \n",
        "\n",
        "    \n",
        "\n",
        "    "
      ],
      "execution_count": 1,
      "outputs": [
        {
          "output_type": "stream",
          "text": [
            "width: 4,height: 4 -> area: 12\n"
          ],
          "name": "stdout"
        }
      ]
    }
  ]
}
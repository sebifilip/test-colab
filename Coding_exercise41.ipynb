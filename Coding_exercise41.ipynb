{
  "nbformat": 4,
  "nbformat_minor": 0,
  "metadata": {
    "colab": {
      "name": "Coding_exercise41.ipynb",
      "provenance": [],
      "collapsed_sections": [],
      "authorship_tag": "ABX9TyMC+iZwutI1Ndcbh4TPZ1QR",
      "include_colab_link": true
    },
    "kernelspec": {
      "name": "python3",
      "display_name": "Python 3"
    },
    "language_info": {
      "name": "python"
    }
  },
  "cells": [
    {
      "cell_type": "markdown",
      "metadata": {
        "id": "view-in-github",
        "colab_type": "text"
      },
      "source": [
        "<a href=\"https://colab.research.google.com/github/sebifilip/test-colab/blob/main/Coding_exercise41.ipynb\" target=\"_parent\"><img src=\"https://colab.research.google.com/assets/colab-badge.svg\" alt=\"Open In Colab\"/></a>"
      ]
    },
    {
      "cell_type": "code",
      "metadata": {
        "id": "JM16YnpGQTS1"
      },
      "source": [
        "class Book:\n",
        "    language = 'ENG'\n",
        "    is_ebook = True\n",
        "\n",
        "    def set_title(self, title):\n",
        "      self.title = title\n",
        "\n",
        "\n",
        "book = Book()\n",
        "book.set_title('Inferno')\n",
        "\n",
        "print(book.title)"
      ],
      "execution_count": null,
      "outputs": []
    }
  ]
}
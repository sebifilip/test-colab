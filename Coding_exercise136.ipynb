{
  "nbformat": 4,
  "nbformat_minor": 0,
  "metadata": {
    "colab": {
      "name": "Coding_exercise136.ipynb",
      "provenance": [],
      "collapsed_sections": [],
      "authorship_tag": "ABX9TyP5ufK9meAGMDB6SnTLdFK4",
      "include_colab_link": true
    },
    "kernelspec": {
      "name": "python3",
      "display_name": "Python 3"
    },
    "language_info": {
      "name": "python"
    }
  },
  "cells": [
    {
      "cell_type": "markdown",
      "metadata": {
        "id": "view-in-github",
        "colab_type": "text"
      },
      "source": [
        "<a href=\"https://colab.research.google.com/github/sebifilip/test-colab/blob/main/Coding_exercise136.ipynb\" target=\"_parent\"><img src=\"https://colab.research.google.com/assets/colab-badge.svg\" alt=\"Open In Colab\"/></a>"
      ]
    },
    {
      "cell_type": "code",
      "metadata": {
        "colab": {
          "base_uri": "https://localhost:8080/"
        },
        "id": "_GM8gatTZoqM",
        "outputId": "4eb1ab34-791e-4329-8fdc-3a4d0f2758e5"
      },
      "source": [
        "import datetime\n",
        "\n",
        "\n",
        "class Note:\n",
        "\n",
        "    def __init__(self, content):\n",
        "        self.content = content\n",
        "        self.creation_time = datetime.datetime.now().strftime('%m-%d-%Y %H:%M:%S')\n",
        "\n",
        "    def __repr__(self):\n",
        "        return f\"Note(content='{self.content}')\"\n",
        "\n",
        "    def find(self, word):\n",
        "        return word.lower() in self.content.lower()\n",
        "\n",
        "\n",
        "class Notebook:\n",
        "\n",
        "    def __init__(self):\n",
        "        self.notes = []\n",
        "\n",
        "    def new_note(self, content):\n",
        "        self.notes.append(Note(content))\n",
        "\n",
        "\n",
        "notebook = Notebook()\n",
        "\n",
        "notebook.new_note('My first note.')\n",
        "notebook.new_note('My second note.')\n",
        "print(notebook.notes)\n"
      ],
      "execution_count": 3,
      "outputs": [
        {
          "output_type": "stream",
          "text": [
            "[Note(content='My first note.'), Note(content='My second note.')]\n"
          ],
          "name": "stdout"
        }
      ]
    }
  ]
}
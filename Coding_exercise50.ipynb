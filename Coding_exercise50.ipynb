{
  "nbformat": 4,
  "nbformat_minor": 0,
  "metadata": {
    "colab": {
      "name": "Coding_exercise50.ipynb",
      "provenance": [],
      "collapsed_sections": [],
      "authorship_tag": "ABX9TyPKXvk175O43dlfFK4+SKv/",
      "include_colab_link": true
    },
    "kernelspec": {
      "name": "python3",
      "display_name": "Python 3"
    },
    "language_info": {
      "name": "python"
    }
  },
  "cells": [
    {
      "cell_type": "markdown",
      "metadata": {
        "id": "view-in-github",
        "colab_type": "text"
      },
      "source": [
        "<a href=\"https://colab.research.google.com/github/sebifilip/test-colab/blob/main/Coding_exercise50.ipynb\" target=\"_parent\"><img src=\"https://colab.research.google.com/assets/colab-badge.svg\" alt=\"Open In Colab\"/></a>"
      ]
    },
    {
      "cell_type": "code",
      "metadata": {
        "colab": {
          "base_uri": "https://localhost:8080/"
        },
        "id": "Tj3v0WOqLJFX",
        "outputId": "7704c260-d85c-455d-94e7-4637781c85b8"
      },
      "source": [
        "class Laptop:\n",
        "  def __init__(self, brand, model, price):\n",
        "    self.model = model\n",
        "    self.brand = brand\n",
        "    if isinstance(price, (int, float)) and price >= 0:\n",
        "      self.price = price\n",
        "    else:\n",
        "      print(\"The price attribute must be a positive int or float.\")\n",
        "\n",
        "laptop = Laptop('Acer', 'Predator', 5490)\n",
        "print(laptop.__dict__)"
      ],
      "execution_count": 2,
      "outputs": [
        {
          "output_type": "stream",
          "text": [
            "{'model': 'Predator', 'brand': 'Acer', 'price': 5490}\n"
          ],
          "name": "stdout"
        }
      ]
    }
  ]
}
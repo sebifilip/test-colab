{
  "nbformat": 4,
  "nbformat_minor": 0,
  "metadata": {
    "colab": {
      "name": "Coding_exercise26.ipynb",
      "provenance": [],
      "collapsed_sections": [],
      "authorship_tag": "ABX9TyOSMiNyg4HCWIzhuO4MKZhR",
      "include_colab_link": true
    },
    "kernelspec": {
      "name": "python3",
      "display_name": "Python 3"
    },
    "language_info": {
      "name": "python"
    }
  },
  "cells": [
    {
      "cell_type": "markdown",
      "metadata": {
        "id": "view-in-github",
        "colab_type": "text"
      },
      "source": [
        "<a href=\"https://colab.research.google.com/github/sebifilip/test-colab/blob/main/Coding_exercise26.ipynb\" target=\"_parent\"><img src=\"https://colab.research.google.com/assets/colab-badge.svg\" alt=\"Open In Colab\"/></a>"
      ]
    },
    {
      "cell_type": "code",
      "metadata": {
        "colab": {
          "base_uri": "https://localhost:8080/"
        },
        "id": "itqb16WIvihf",
        "outputId": "2fc07db8-d24b-4b8b-cfbc-50198b8d77c4"
      },
      "source": [
        "class Phone:\n",
        "  brand = 'Apple'\n",
        "  model = 'iPhone X'\n",
        "\n",
        "\n",
        "print(getattr(Phone, 'brand'))\n",
        "print(getattr(Phone, 'model'))"
      ],
      "execution_count": 3,
      "outputs": [
        {
          "output_type": "stream",
          "text": [
            "Apple\n",
            "iPhone X\n"
          ],
          "name": "stdout"
        }
      ]
    }
  ]
}
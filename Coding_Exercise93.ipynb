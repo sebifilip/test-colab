{
  "nbformat": 4,
  "nbformat_minor": 0,
  "metadata": {
    "colab": {
      "name": "Coding_Exercise93.ipynb",
      "provenance": [],
      "collapsed_sections": [],
      "authorship_tag": "ABX9TyPhapVn3YHmkwy/cSA9GkZO",
      "include_colab_link": true
    },
    "kernelspec": {
      "name": "python3",
      "display_name": "Python 3"
    },
    "language_info": {
      "name": "python"
    }
  },
  "cells": [
    {
      "cell_type": "markdown",
      "metadata": {
        "id": "view-in-github",
        "colab_type": "text"
      },
      "source": [
        "<a href=\"https://colab.research.google.com/github/sebifilip/test-colab/blob/main/Coding_Exercise93.ipynb\" target=\"_parent\"><img src=\"https://colab.research.google.com/assets/colab-badge.svg\" alt=\"Open In Colab\"/></a>"
      ]
    },
    {
      "cell_type": "code",
      "metadata": {
        "colab": {
          "base_uri": "https://localhost:8080/"
        },
        "id": "NkBX_2Yox4Ai",
        "outputId": "3bd9b4e6-40c4-40be-b8fa-8a0610bf0f00"
      },
      "source": [
        "class Vector:\n",
        "\n",
        "    def __init__(self, *args):\n",
        "        self.components = args\n",
        "\n",
        "    def __repr__(self):\n",
        "        return f\"Vector{self.components}\"\n",
        "\n",
        "    def __str__(self):\n",
        "        return f'{self.components}'\n",
        "\n",
        "    def __len__(self):\n",
        "        return len(self.components)\n",
        "\n",
        "\n",
        "v1 = Vector(4, 2)\n",
        "v2 = Vector(-1, 3)\n",
        "\n",
        "try:\n",
        "    v1 + v2\n",
        "except TypeError as error:\n",
        "    print(error)\n"
      ],
      "execution_count": 1,
      "outputs": [
        {
          "output_type": "stream",
          "text": [
            "unsupported operand type(s) for +: 'Vector' and 'Vector'\n"
          ],
          "name": "stdout"
        }
      ]
    }
  ]
}
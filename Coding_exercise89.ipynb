{
  "nbformat": 4,
  "nbformat_minor": 0,
  "metadata": {
    "colab": {
      "name": "Coding_exercise89.ipynb",
      "provenance": [],
      "authorship_tag": "ABX9TyPUK9z5Mc+X005AOuRfuloq",
      "include_colab_link": true
    },
    "kernelspec": {
      "name": "python3",
      "display_name": "Python 3"
    },
    "language_info": {
      "name": "python"
    }
  },
  "cells": [
    {
      "cell_type": "markdown",
      "metadata": {
        "id": "view-in-github",
        "colab_type": "text"
      },
      "source": [
        "<a href=\"https://colab.research.google.com/github/sebifilip/test-colab/blob/main/Coding_exercise89.ipynb\" target=\"_parent\"><img src=\"https://colab.research.google.com/assets/colab-badge.svg\" alt=\"Open In Colab\"/></a>"
      ]
    },
    {
      "cell_type": "code",
      "metadata": {
        "colab": {
          "base_uri": "https://localhost:8080/"
        },
        "id": "mjOxOBiakUll",
        "outputId": "84a7d380-089e-4631-ac21-33bed7d8bf11"
      },
      "source": [
        "class Vector:\n",
        "    \n",
        "    def __init__(self, *components):\n",
        "      self.components = components\n",
        " \n",
        "    def __repr__(self):\n",
        "        return f'Vector{self.components}'\n",
        " \n",
        "v1 = Vector(-3, 4, 2)\n",
        "print(v1)"
      ],
      "execution_count": 1,
      "outputs": [
        {
          "output_type": "stream",
          "text": [
            "Vector(-3, 4, 2)\n"
          ],
          "name": "stdout"
        }
      ]
    }
  ]
}
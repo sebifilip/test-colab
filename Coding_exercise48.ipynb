{
  "nbformat": 4,
  "nbformat_minor": 0,
  "metadata": {
    "colab": {
      "name": "Coding_exercise48.ipynb",
      "provenance": [],
      "collapsed_sections": [],
      "authorship_tag": "ABX9TyP4inQJVK6xSQWjmlW/3zsM",
      "include_colab_link": true
    },
    "kernelspec": {
      "name": "python3",
      "display_name": "Python 3"
    },
    "language_info": {
      "name": "python"
    }
  },
  "cells": [
    {
      "cell_type": "markdown",
      "metadata": {
        "id": "view-in-github",
        "colab_type": "text"
      },
      "source": [
        "<a href=\"https://colab.research.google.com/github/sebifilip/test-colab/blob/main/Coding_exercise48.ipynb\" target=\"_parent\"><img src=\"https://colab.research.google.com/assets/colab-badge.svg\" alt=\"Open In Colab\"/></a>"
      ]
    },
    {
      "cell_type": "code",
      "metadata": {
        "colab": {
          "base_uri": "https://localhost:8080/"
        },
        "id": "qzNvRpKGDO8I",
        "outputId": "188e6ca0-65da-4673-8c25-9c81c7eaf5b8"
      },
      "source": [
        "class Car:\n",
        "  def __init__(self, brand, model, price, type_of_car):\n",
        "    self.brand = brand\n",
        "    self.model = model\n",
        "    self.price = price\n",
        "    self.type_of_car = type_of_car\n",
        "\n",
        "car = Car('Opel', 'Insignia', 11500, 'sedan')\n",
        "print(car.__dict__)"
      ],
      "execution_count": 2,
      "outputs": [
        {
          "output_type": "stream",
          "text": [
            "{'brand': 'Opel', 'model': 'Insignia', 'price': 11500, 'type_of_car': 'sedan'}\n"
          ],
          "name": "stdout"
        }
      ]
    }
  ]
}
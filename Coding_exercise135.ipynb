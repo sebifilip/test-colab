{
  "nbformat": 4,
  "nbformat_minor": 0,
  "metadata": {
    "colab": {
      "name": "Coding_exercise135.ipynb",
      "provenance": [],
      "collapsed_sections": [],
      "authorship_tag": "ABX9TyMxdOsFf727pUbTbD+fUxzu",
      "include_colab_link": true
    },
    "kernelspec": {
      "name": "python3",
      "display_name": "Python 3"
    },
    "language_info": {
      "name": "python"
    }
  },
  "cells": [
    {
      "cell_type": "markdown",
      "metadata": {
        "id": "view-in-github",
        "colab_type": "text"
      },
      "source": [
        "<a href=\"https://colab.research.google.com/github/sebifilip/test-colab/blob/main/Coding_exercise135.ipynb\" target=\"_parent\"><img src=\"https://colab.research.google.com/assets/colab-badge.svg\" alt=\"Open In Colab\"/></a>"
      ]
    },
    {
      "cell_type": "code",
      "metadata": {
        "colab": {
          "base_uri": "https://localhost:8080/"
        },
        "id": "iXKB4Z9EYLHA",
        "outputId": "2db2c79c-1ce4-4b98-95ad-364d7e3ce739"
      },
      "source": [
        "import datetime\n",
        "\n",
        "\n",
        "class Note:\n",
        "\n",
        "    def __init__(self, content):\n",
        "        self.content = content\n",
        "        self.creation_time = datetime.datetime.now().strftime('%m-%d-%Y %H:%M:%S')\n",
        "\n",
        "    def find(self, word):\n",
        "        return word.lower() in self.content.lower()\n",
        " \n",
        " \n",
        "note1 = Note('Object Oriented Programming in Python.')\n",
        "print(note1.find('python'))\n",
        "print(note1.find('Python'))"
      ],
      "execution_count": 1,
      "outputs": [
        {
          "output_type": "stream",
          "text": [
            "True\n",
            "True\n"
          ],
          "name": "stdout"
        }
      ]
    }
  ]
}
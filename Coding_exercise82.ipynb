{
  "nbformat": 4,
  "nbformat_minor": 0,
  "metadata": {
    "colab": {
      "name": "Coding_exercise82.ipynb",
      "provenance": [],
      "collapsed_sections": [],
      "authorship_tag": "ABX9TyOuOYEyejJ1OCaxoPmVfdbe",
      "include_colab_link": true
    },
    "kernelspec": {
      "name": "python3",
      "display_name": "Python 3"
    },
    "language_info": {
      "name": "python"
    }
  },
  "cells": [
    {
      "cell_type": "markdown",
      "metadata": {
        "id": "view-in-github",
        "colab_type": "text"
      },
      "source": [
        "<a href=\"https://colab.research.google.com/github/sebifilip/test-colab/blob/main/Coding_exercise82.ipynb\" target=\"_parent\"><img src=\"https://colab.research.google.com/assets/colab-badge.svg\" alt=\"Open In Colab\"/></a>"
      ]
    },
    {
      "cell_type": "code",
      "metadata": {
        "colab": {
          "base_uri": "https://localhost:8080/"
        },
        "id": "jTQ2ang7yT_G",
        "outputId": "a82611dd-ae1d-45fe-8204-2fac03e3fd27"
      },
      "source": [
        "class Person:\n",
        "\n",
        "    instances = []\n",
        "\n",
        "    def __init__(self, first_name, last_name):\n",
        "        Person.instances.append(self)\n",
        "        self.first_name = first_name\n",
        "        self.last_name = last_name\n",
        "    \n",
        "    @classmethod\n",
        "    def count_instances(cls):\n",
        "        return len(Person.instances)\n",
        "\n",
        "\n",
        "person1 = Person('John', 'Doe')\n",
        "person2 = Person('Mike', 'Smith')\n",
        "print(person1.count_instances())"
      ],
      "execution_count": 1,
      "outputs": [
        {
          "output_type": "stream",
          "text": [
            "2\n"
          ],
          "name": "stdout"
        }
      ]
    }
  ]
}
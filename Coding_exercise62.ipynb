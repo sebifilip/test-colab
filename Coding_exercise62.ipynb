{
  "nbformat": 4,
  "nbformat_minor": 0,
  "metadata": {
    "colab": {
      "name": "Coding_exercise62.ipynb",
      "provenance": [],
      "collapsed_sections": [],
      "authorship_tag": "ABX9TyPCfoqs23eAxlSn4TcuHFFz",
      "include_colab_link": true
    },
    "kernelspec": {
      "name": "python3",
      "display_name": "Python 3"
    },
    "language_info": {
      "name": "python"
    }
  },
  "cells": [
    {
      "cell_type": "markdown",
      "metadata": {
        "id": "view-in-github",
        "colab_type": "text"
      },
      "source": [
        "<a href=\"https://colab.research.google.com/github/sebifilip/test-colab/blob/main/Coding_exercise62.ipynb\" target=\"_parent\"><img src=\"https://colab.research.google.com/assets/colab-badge.svg\" alt=\"Open In Colab\"/></a>"
      ]
    },
    {
      "cell_type": "code",
      "metadata": {
        "colab": {
          "base_uri": "https://localhost:8080/"
        },
        "id": "Yragf0nwvXR0",
        "outputId": "d9893834-fac0-454d-a1df-f061f7c59f32"
      },
      "source": [
        "class Perosn:\n",
        "\n",
        "  def __init__(self, first_name):\n",
        "    self._first_name = first_name\n",
        "\n",
        "  def get_first_name(self):\n",
        "    return self._first_name\n",
        "\n",
        "  def set_first_name(self, val):\n",
        "    self._first_name = val\n",
        "\n",
        "  first_name = property(fget = get_first_name, fset = set_first_name)\n",
        "\n",
        "\n",
        "person = Perosn(\"John\")\n",
        "person.set_first_name(\"Mike\")\n",
        "print(person._first_name)"
      ],
      "execution_count": 2,
      "outputs": [
        {
          "output_type": "stream",
          "text": [
            "Mike\n"
          ],
          "name": "stdout"
        }
      ]
    }
  ]
}
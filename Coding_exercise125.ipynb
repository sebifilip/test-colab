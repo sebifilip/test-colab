{
  "nbformat": 4,
  "nbformat_minor": 0,
  "metadata": {
    "colab": {
      "name": "Coding_exercise125.ipynb",
      "provenance": [],
      "authorship_tag": "ABX9TyNRTO9p+cb/Ifz9HLt3h7aW",
      "include_colab_link": true
    },
    "kernelspec": {
      "name": "python3",
      "display_name": "Python 3"
    },
    "language_info": {
      "name": "python"
    }
  },
  "cells": [
    {
      "cell_type": "markdown",
      "metadata": {
        "id": "view-in-github",
        "colab_type": "text"
      },
      "source": [
        "<a href=\"https://colab.research.google.com/github/sebifilip/test-colab/blob/main/Coding_exercise125.ipynb\" target=\"_parent\"><img src=\"https://colab.research.google.com/assets/colab-badge.svg\" alt=\"Open In Colab\"/></a>"
      ]
    },
    {
      "cell_type": "code",
      "metadata": {
        "id": "2z0_aUolE2kF"
      },
      "source": [
        "from abc import ABC, abstractmethod\n",
        " \n",
        " \n",
        "class TaxPayer(ABC):\n",
        " \n",
        "    def __init__(self, salary):\n",
        "        self.salary = salary\n",
        " \n",
        "    @abstractmethod\n",
        "    def calculate_tax(self):\n",
        "        pass"
      ],
      "execution_count": 2,
      "outputs": []
    }
  ]
}
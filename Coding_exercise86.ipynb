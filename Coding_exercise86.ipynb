{
  "nbformat": 4,
  "nbformat_minor": 0,
  "metadata": {
    "colab": {
      "name": "Coding_exercise86.ipynb",
      "provenance": [],
      "collapsed_sections": [],
      "authorship_tag": "ABX9TyO6CJvkQNu6KuekPMtudiXr",
      "include_colab_link": true
    },
    "kernelspec": {
      "name": "python3",
      "display_name": "Python 3"
    },
    "language_info": {
      "name": "python"
    }
  },
  "cells": [
    {
      "cell_type": "markdown",
      "metadata": {
        "id": "view-in-github",
        "colab_type": "text"
      },
      "source": [
        "<a href=\"https://colab.research.google.com/github/sebifilip/test-colab/blob/main/Coding_exercise86.ipynb\" target=\"_parent\"><img src=\"https://colab.research.google.com/assets/colab-badge.svg\" alt=\"Open In Colab\"/></a>"
      ]
    },
    {
      "cell_type": "code",
      "metadata": {
        "colab": {
          "base_uri": "https://localhost:8080/"
        },
        "id": "NXmc2DG87vX6",
        "outputId": "f5e8428f-f966-474e-ae2f-841fb7e4f59e"
      },
      "source": [
        "import uuid\n",
        "\n",
        "\n",
        "class Book:\n",
        "\n",
        "    def __init__(self, title, author):\n",
        "        self.book_id = self.get_id()\n",
        "        self.title = title\n",
        "        self.author = author\n",
        "\n",
        "    @staticmethod\n",
        "    def get_id():\n",
        "        return str(uuid.uuid4().fields[-1])[:6]\n",
        "\n",
        "    def __repr__(self):\n",
        "         return f\"Book(title='{self.title}', author='{self.author}')\"\n",
        "\n",
        "\n",
        "book1 = Book('Inferno', 'Dan Brown')\n",
        "print(book1)"
      ],
      "execution_count": 1,
      "outputs": [
        {
          "output_type": "stream",
          "text": [
            "Book(title='Inferno', author='Dan Brown')\n"
          ],
          "name": "stdout"
        }
      ]
    }
  ]
}
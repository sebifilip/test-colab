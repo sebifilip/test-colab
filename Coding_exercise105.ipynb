{
  "nbformat": 4,
  "nbformat_minor": 0,
  "metadata": {
    "colab": {
      "name": "Coding_exercise105.ipynb",
      "provenance": [],
      "collapsed_sections": [],
      "authorship_tag": "ABX9TyPs+oinazbMfasdgyL49/md",
      "include_colab_link": true
    },
    "kernelspec": {
      "name": "python3",
      "display_name": "Python 3"
    },
    "language_info": {
      "name": "python"
    }
  },
  "cells": [
    {
      "cell_type": "markdown",
      "metadata": {
        "id": "view-in-github",
        "colab_type": "text"
      },
      "source": [
        "<a href=\"https://colab.research.google.com/github/sebifilip/test-colab/blob/main/Coding_exercise105.ipynb\" target=\"_parent\"><img src=\"https://colab.research.google.com/assets/colab-badge.svg\" alt=\"Open In Colab\"/></a>"
      ]
    },
    {
      "cell_type": "code",
      "metadata": {
        "colab": {
          "base_uri": "https://localhost:8080/"
        },
        "id": "w4Op6dd9hYYS",
        "outputId": "817ae7de-ab4e-4f44-86f3-8ed784676d27"
      },
      "source": [
        "import uuid\n",
        "\n",
        "\n",
        "class Book:\n",
        "\n",
        "    def __init__(self, title, author):\n",
        "        self.book_id = self.get_id()\n",
        "        self.title = title\n",
        "        self.author = author\n",
        "\n",
        "    def __repr__(self):\n",
        "        return f\"Book(title='{self.title}', author='{self.author}')\"        \n",
        "\n",
        "    def __str__(self):\n",
        "        return f'Book ID: {self.book_id} | Title: {self.title} | Author: {self.author}'\n",
        " \n",
        "    @staticmethod\n",
        "    def get_id():\n",
        "        return str(uuid.uuid4().fields[-1])[:6]\n",
        " \n",
        " \n",
        "book = Book('The Lord of the Rings', 'J.R.R. Tolkien')\n",
        "print(book)"
      ],
      "execution_count": 1,
      "outputs": [
        {
          "output_type": "stream",
          "text": [
            "Book ID: 257007 | Title: The Lord of the Rings | Author: J.R.R. Tolkien\n"
          ],
          "name": "stdout"
        }
      ]
    }
  ]
}
{
  "nbformat": 4,
  "nbformat_minor": 0,
  "metadata": {
    "colab": {
      "name": "Coding_exercise95.ipynb",
      "provenance": [],
      "collapsed_sections": [],
      "authorship_tag": "ABX9TyNqQZP8DzdjclhTdvcte3Rp",
      "include_colab_link": true
    },
    "kernelspec": {
      "name": "python3",
      "display_name": "Python 3"
    },
    "language_info": {
      "name": "python"
    }
  },
  "cells": [
    {
      "cell_type": "markdown",
      "metadata": {
        "id": "view-in-github",
        "colab_type": "text"
      },
      "source": [
        "<a href=\"https://colab.research.google.com/github/sebifilip/test-colab/blob/main/Coding_exercise95.ipynb\" target=\"_parent\"><img src=\"https://colab.research.google.com/assets/colab-badge.svg\" alt=\"Open In Colab\"/></a>"
      ]
    },
    {
      "cell_type": "code",
      "metadata": {
        "colab": {
          "base_uri": "https://localhost:8080/"
        },
        "id": "I4JFDsgU8pPy",
        "outputId": "93e2aa44-5082-4b8f-e8a1-c96d31f22a80"
      },
      "source": [
        "class Vector:\n",
        "\n",
        "    def __init__(self, *args):\n",
        "        self.components = args\n",
        "\n",
        "    def __repr__(self):\n",
        "        return f\"Vector{self.components}\"\n",
        "\n",
        "    def __str__(self):\n",
        "        return f'{self.components}'\n",
        "\n",
        "    def __len__(self):\n",
        "        return len(self.components)\n",
        "\n",
        "    def __add__(self, other):\n",
        "        components = tuple(x + y for x, y in zip(self.components, other.components))\n",
        "        return Vector(*components)\n",
        "\n",
        "\n",
        "v1 = Vector(4, 2)\n",
        "v2 = Vector(-1, 3)\n",
        "\n",
        "try:\n",
        "    v1 - v2\n",
        "except TypeError as error:\n",
        "    print(error)"
      ],
      "execution_count": 1,
      "outputs": [
        {
          "output_type": "stream",
          "text": [
            "unsupported operand type(s) for -: 'Vector' and 'Vector'\n"
          ],
          "name": "stdout"
        }
      ]
    }
  ]
}
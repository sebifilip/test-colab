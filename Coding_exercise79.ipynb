{
  "nbformat": 4,
  "nbformat_minor": 0,
  "metadata": {
    "colab": {
      "name": "Coding_exercise79.ipynb",
      "provenance": [],
      "collapsed_sections": [],
      "authorship_tag": "ABX9TyPFNsz5P/jg9GDNpggL80P5",
      "include_colab_link": true
    },
    "kernelspec": {
      "name": "python3",
      "display_name": "Python 3"
    },
    "language_info": {
      "name": "python"
    }
  },
  "cells": [
    {
      "cell_type": "markdown",
      "metadata": {
        "id": "view-in-github",
        "colab_type": "text"
      },
      "source": [
        "<a href=\"https://colab.research.google.com/github/sebifilip/test-colab/blob/main/Coding_exercise79.ipynb\" target=\"_parent\"><img src=\"https://colab.research.google.com/assets/colab-badge.svg\" alt=\"Open In Colab\"/></a>"
      ]
    },
    {
      "cell_type": "code",
      "metadata": {
        "colab": {
          "base_uri": "https://localhost:8080/"
        },
        "id": "GnNslOiNq1w2",
        "outputId": "e0ac9712-e51d-4209-f1ee-9372a4704189"
      },
      "source": [
        "class Container:\n",
        " \n",
        "    @classmethod\n",
        "    def show_details(cls):\n",
        "        print(f'Running from {cls.__name__} class.')\n",
        "        \n",
        " \n",
        "Container.show_details()\n"
      ],
      "execution_count": 4,
      "outputs": [
        {
          "output_type": "stream",
          "text": [
            "Running from Container class.\n"
          ],
          "name": "stdout"
        }
      ]
    }
  ]
}
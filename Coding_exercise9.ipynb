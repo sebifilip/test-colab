{
  "nbformat": 4,
  "nbformat_minor": 0,
  "metadata": {
    "colab": {
      "name": "Coding_exercise9.ipynb",
      "provenance": [],
      "collapsed_sections": [],
      "authorship_tag": "ABX9TyOVW3eVvHK2ShewVRnR1sFp",
      "include_colab_link": true
    },
    "kernelspec": {
      "name": "python3",
      "display_name": "Python 3"
    },
    "language_info": {
      "name": "python"
    }
  },
  "cells": [
    {
      "cell_type": "markdown",
      "metadata": {
        "id": "view-in-github",
        "colab_type": "text"
      },
      "source": [
        "<a href=\"https://colab.research.google.com/github/sebifilip/test-colab/blob/main/Coding_exercise9.ipynb\" target=\"_parent\"><img src=\"https://colab.research.google.com/assets/colab-badge.svg\" alt=\"Open In Colab\"/></a>"
      ]
    },
    {
      "cell_type": "code",
      "metadata": {
        "colab": {
          "base_uri": "https://localhost:8080/"
        },
        "id": "YEe_fkp7N7T9",
        "outputId": "cdccfbee-b1bb-4467-eb50-ade1ca40c563"
      },
      "source": [
        "def display_info(number_of_updates=1):\n",
        "    counter = 100\n",
        "    dot_counter = ''\n",
        "\n",
        "    def update_counter():\n",
        "        nonlocal counter\n",
        "        counter += 1\n",
        "        nonlocal dot_counter\n",
        "        dot_counter += '.'\n",
        "    \n",
        "    [update_counter() for _ in range(number_of_updates)]\n",
        "\n",
        "    print(counter)\n",
        "    print(dot_counter)\n",
        "\n",
        "\n",
        "display_info(number_of_updates=10)"
      ],
      "execution_count": 5,
      "outputs": [
        {
          "output_type": "stream",
          "text": [
            "110\n",
            "..........\n"
          ],
          "name": "stdout"
        }
      ]
    }
  ]
}
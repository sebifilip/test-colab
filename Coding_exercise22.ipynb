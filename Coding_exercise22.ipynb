{
  "nbformat": 4,
  "nbformat_minor": 0,
  "metadata": {
    "colab": {
      "name": "Coding_exercise22.ipynb",
      "provenance": [],
      "collapsed_sections": [],
      "authorship_tag": "ABX9TyPF23Y5EoxISorzlm9rRS5X",
      "include_colab_link": true
    },
    "kernelspec": {
      "name": "python3",
      "display_name": "Python 3"
    },
    "language_info": {
      "name": "python"
    }
  },
  "cells": [
    {
      "cell_type": "markdown",
      "metadata": {
        "id": "view-in-github",
        "colab_type": "text"
      },
      "source": [
        "<a href=\"https://colab.research.google.com/github/sebifilip/test-colab/blob/main/Coding_exercise22.ipynb\" target=\"_parent\"><img src=\"https://colab.research.google.com/assets/colab-badge.svg\" alt=\"Open In Colab\"/></a>"
      ]
    },
    {
      "cell_type": "code",
      "metadata": {
        "colab": {
          "base_uri": "https://localhost:8080/"
        },
        "id": "fA41oiAPyUWI",
        "outputId": "f7e76fd2-6f8b-4cb8-f787-848c26f804cb"
      },
      "source": [
        "class Model:\n",
        "    pass\n",
        "\n",
        "\n",
        "class View:\n",
        "    pass\n",
        "\n",
        "\n",
        "object1 = Model()\n",
        "object2 = [Model(), Model()]\n",
        "object3 = {}\n",
        "\n",
        "print(isinstance(object1, (Model, View)))\n",
        "print(isinstance(object2, (Model, View)))\n",
        "print(isinstance(object3, (Model, View)))"
      ],
      "execution_count": 1,
      "outputs": [
        {
          "output_type": "stream",
          "text": [
            "True\n",
            "False\n",
            "False\n"
          ],
          "name": "stdout"
        }
      ]
    }
  ]
}
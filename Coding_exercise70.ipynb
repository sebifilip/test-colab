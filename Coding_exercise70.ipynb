{
  "nbformat": 4,
  "nbformat_minor": 0,
  "metadata": {
    "colab": {
      "name": "Coding_exercise70.ipynb",
      "provenance": [],
      "collapsed_sections": [],
      "authorship_tag": "ABX9TyPOiCDahn7FhLbyHRDA8CC7",
      "include_colab_link": true
    },
    "kernelspec": {
      "name": "python3",
      "display_name": "Python 3"
    },
    "language_info": {
      "name": "python"
    }
  },
  "cells": [
    {
      "cell_type": "markdown",
      "metadata": {
        "id": "view-in-github",
        "colab_type": "text"
      },
      "source": [
        "<a href=\"https://colab.research.google.com/github/sebifilip/test-colab/blob/main/Coding_exercise70.ipynb\" target=\"_parent\"><img src=\"https://colab.research.google.com/assets/colab-badge.svg\" alt=\"Open In Colab\"/></a>"
      ]
    },
    {
      "cell_type": "code",
      "metadata": {
        "id": "ulhLemJU5qDk"
      },
      "source": [
        "class Pet:\n",
        "\n",
        "    def __init__(self, name, age):\n",
        "        self._name = name\n",
        "        self.age = age\n",
        "\n",
        "    @property\n",
        "    def name(self):\n",
        "        return self._name\n",
        "\n",
        "    @name.setter\n",
        "    def name(self, value):\n",
        "        self._name = value\n",
        "\n",
        "    @property\n",
        "    def age(self):\n",
        "        return self._age\n",
        "\n",
        "    @age.setter\n",
        "    def age(self, value):\n",
        "        if not isinstance(value, int):\n",
        "            raise TypeError('The value of age must be of type int.')\n",
        "        if not value > 0:\n",
        "            raise ValueError('The value of age must be a positive integer.')\n",
        "        self._age = value\n",
        "\n",
        "\n",
        "pet = Pet(\"Max\", 7)\n",
        "\n",
        "try:\n",
        "  pet._age = -10\n",
        "except TypeError as error:\n",
        "    print(error)\n",
        "except ValueError as error:\n",
        "    print(error)"
      ],
      "execution_count": 3,
      "outputs": []
    }
  ]
}
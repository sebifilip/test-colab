{
  "nbformat": 4,
  "nbformat_minor": 0,
  "metadata": {
    "colab": {
      "name": "Coding_exercise85.ipynb",
      "provenance": [],
      "collapsed_sections": [],
      "authorship_tag": "ABX9TyPEjZeAQWNkwti9drrAbtXQ",
      "include_colab_link": true
    },
    "kernelspec": {
      "name": "python3",
      "display_name": "Python 3"
    },
    "language_info": {
      "name": "python"
    }
  },
  "cells": [
    {
      "cell_type": "markdown",
      "metadata": {
        "id": "view-in-github",
        "colab_type": "text"
      },
      "source": [
        "<a href=\"https://colab.research.google.com/github/sebifilip/test-colab/blob/main/Coding_exercise85.ipynb\" target=\"_parent\"><img src=\"https://colab.research.google.com/assets/colab-badge.svg\" alt=\"Open In Colab\"/></a>"
      ]
    },
    {
      "cell_type": "code",
      "metadata": {
        "colab": {
          "base_uri": "https://localhost:8080/"
        },
        "id": "Ekq5E3mp3f_M",
        "outputId": "1bd0e45e-acbc-4b13-c60a-4469520dc7e7"
      },
      "source": [
        "import uuid\n",
        "\n",
        "\n",
        "class Book:\n",
        "\n",
        "    def __init__(self, title, author):\n",
        "        self.book_id = self.get_id()\n",
        "        self.title = title\n",
        "        self.author = author\n",
        " \n",
        "    @staticmethod\n",
        "    def get_id():\n",
        "        return str(uuid.uuid4().fields[-1])[:6]\n",
        " \n",
        " \n",
        "book1 = Book('Inferno', 'Dan Brown')\n",
        "print(book1.__dict__.keys())"
      ],
      "execution_count": 1,
      "outputs": [
        {
          "output_type": "stream",
          "text": [
            "dict_keys(['book_id', 'title', 'author'])\n"
          ],
          "name": "stdout"
        }
      ]
    }
  ]
}
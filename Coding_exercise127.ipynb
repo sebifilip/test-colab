{
  "nbformat": 4,
  "nbformat_minor": 0,
  "metadata": {
    "colab": {
      "name": "Coding_exercise127.ipynb",
      "provenance": [],
      "authorship_tag": "ABX9TyNHq4uTbQ5yq2NQvkoSRlNX",
      "include_colab_link": true
    },
    "kernelspec": {
      "name": "python3",
      "display_name": "Python 3"
    },
    "language_info": {
      "name": "python"
    }
  },
  "cells": [
    {
      "cell_type": "markdown",
      "metadata": {
        "id": "view-in-github",
        "colab_type": "text"
      },
      "source": [
        "<a href=\"https://colab.research.google.com/github/sebifilip/test-colab/blob/main/Coding_exercise127.ipynb\" target=\"_parent\"><img src=\"https://colab.research.google.com/assets/colab-badge.svg\" alt=\"Open In Colab\"/></a>"
      ]
    },
    {
      "cell_type": "code",
      "metadata": {
        "colab": {
          "base_uri": "https://localhost:8080/"
        },
        "id": "vraLz1VUIeMW",
        "outputId": "9ab90295-c22b-4f97-ea0e-205347c36f0d"
      },
      "source": [
        "from abc import ABC, abstractmethod\n",
        "\n",
        "\n",
        "class TaxPayer(ABC):\n",
        "\n",
        "    def __init__(self, salary):\n",
        "        self.salary = salary\n",
        "\n",
        "    @abstractmethod\n",
        "    def calculate_tax(self):\n",
        "        pass\n",
        "\n",
        "\n",
        "class StudentTaxPayer(TaxPayer):\n",
        "\n",
        "    def calculate_tax(self):\n",
        "        return self.salary * 0.15\n",
        "\n",
        "\n",
        "class DisabledTaxPayer(TaxPayer):\n",
        " \n",
        "    def calculate_tax(self):\n",
        "        return min(self.salary * 0.12, 5000.0)\n",
        " \n",
        " \n",
        "disabled = DisabledTaxPayer(50000)\n",
        "print(disabled.calculate_tax())"
      ],
      "execution_count": 1,
      "outputs": [
        {
          "output_type": "stream",
          "text": [
            "5000.0\n"
          ],
          "name": "stdout"
        }
      ]
    }
  ]
}
{
  "nbformat": 4,
  "nbformat_minor": 0,
  "metadata": {
    "colab": {
      "name": "Coding_exercise140.ipynb",
      "provenance": [],
      "collapsed_sections": [],
      "authorship_tag": "ABX9TyOsf7ZchHEGJJvRObB9qyIi",
      "include_colab_link": true
    },
    "kernelspec": {
      "name": "python3",
      "display_name": "Python 3"
    },
    "language_info": {
      "name": "python"
    }
  },
  "cells": [
    {
      "cell_type": "markdown",
      "metadata": {
        "id": "view-in-github",
        "colab_type": "text"
      },
      "source": [
        "<a href=\"https://colab.research.google.com/github/sebifilip/test-colab/blob/main/Coding_exercise140.ipynb\" target=\"_parent\"><img src=\"https://colab.research.google.com/assets/colab-badge.svg\" alt=\"Open In Colab\"/></a>"
      ]
    },
    {
      "cell_type": "code",
      "metadata": {
        "colab": {
          "base_uri": "https://localhost:8080/"
        },
        "id": "NeW-OD_5ly61",
        "outputId": "23cb2ed7-9ed9-4958-de51-7fdff0e241da"
      },
      "source": [
        "class ClientList(list):\n",
        "    \n",
        "    def search_email(self, value):\n",
        "        for client in self:\n",
        "            if value in client.email:\n",
        "                return client\n",
        "\n",
        "\n",
        "class Client:\n",
        "\n",
        "    all_clients = ClientList()\n",
        "\n",
        "    def __init__(self, name, email):\n",
        "        self.name = name\n",
        "        self.email = email\n",
        "        Client.all_clients.append(self)\n",
        "\n",
        "    def __repr__(self):\n",
        "        return f\"Client(name='{self.name}', email='{self.email}')\"\n",
        "\n",
        "\n",
        "client1 = Client('Tom', 'sample@gmail.com')\n",
        "client2 = Client('Donald', 'sales@gmail.com')\n",
        "client3 = Client('Mike', 'sales@yahoo.com')\n",
        "client4 = Client('Lisa', 'info@gmail.com')\n",
        "print(Client.all_clients.search_email('sales'))"
      ],
      "execution_count": 5,
      "outputs": [
        {
          "output_type": "stream",
          "text": [
            "Client(name='Donald', email='sales@gmail.com')\n"
          ],
          "name": "stdout"
        }
      ]
    }
  ]
}
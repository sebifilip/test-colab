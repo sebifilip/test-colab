{
  "nbformat": 4,
  "nbformat_minor": 0,
  "metadata": {
    "colab": {
      "name": "Coding_Exercise31.ipynb",
      "provenance": [],
      "collapsed_sections": [],
      "authorship_tag": "ABX9TyO2YTkYI5rBsOevqdeLmcRp",
      "include_colab_link": true
    },
    "kernelspec": {
      "name": "python3",
      "display_name": "Python 3"
    },
    "language_info": {
      "name": "python"
    }
  },
  "cells": [
    {
      "cell_type": "markdown",
      "metadata": {
        "id": "view-in-github",
        "colab_type": "text"
      },
      "source": [
        "<a href=\"https://colab.research.google.com/github/sebifilip/test-colab/blob/main/Coding_Exercise31.ipynb\" target=\"_parent\"><img src=\"https://colab.research.google.com/assets/colab-badge.svg\" alt=\"Open In Colab\"/></a>"
      ]
    },
    {
      "cell_type": "code",
      "metadata": {
        "colab": {
          "base_uri": "https://localhost:8080/"
        },
        "id": "wBNJZc7_0Dzd",
        "outputId": "5ea18722-5122-44c2-e260-699f780dc817"
      },
      "source": [
        "class OnlineShop:\n",
        "    sector = 'electronics'\n",
        "    sector_code = 'ELE'\n",
        "    is_public_company = False\n",
        "\n",
        "\n",
        "delattr(OnlineShop, 'sector_code')\n",
        "print(OnlineShop.__dict__.keys())"
      ],
      "execution_count": 2,
      "outputs": [
        {
          "output_type": "stream",
          "text": [
            "dict_keys(['__module__', 'sector', 'is_public_company', '__dict__', '__weakref__', '__doc__'])\n"
          ],
          "name": "stdout"
        }
      ]
    }
  ]
}
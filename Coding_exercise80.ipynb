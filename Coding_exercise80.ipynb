{
  "nbformat": 4,
  "nbformat_minor": 0,
  "metadata": {
    "colab": {
      "name": "Coding_exercise80.ipynb",
      "provenance": [],
      "collapsed_sections": [],
      "authorship_tag": "ABX9TyMxx8wt69JTLoH+tVFQuSW6",
      "include_colab_link": true
    },
    "kernelspec": {
      "name": "python3",
      "display_name": "Python 3"
    },
    "language_info": {
      "name": "python"
    }
  },
  "cells": [
    {
      "cell_type": "markdown",
      "metadata": {
        "id": "view-in-github",
        "colab_type": "text"
      },
      "source": [
        "<a href=\"https://colab.research.google.com/github/sebifilip/test-colab/blob/main/Coding_exercise80.ipynb\" target=\"_parent\"><img src=\"https://colab.research.google.com/assets/colab-badge.svg\" alt=\"Open In Colab\"/></a>"
      ]
    },
    {
      "cell_type": "code",
      "metadata": {
        "colab": {
          "base_uri": "https://localhost:8080/"
        },
        "id": "GulRPNQHtK3o",
        "outputId": "b7ec2be2-85fc-4cbe-c48c-c4dcdb1689b1"
      },
      "source": [
        "class Container:\n",
        "\n",
        "    @classmethod\n",
        "    def show_details(cls):\n",
        "        print(f'Running from {cls.__name__} class.')\n",
        "\n",
        "\n",
        "container = Container()\n",
        "container.show_details()"
      ],
      "execution_count": 1,
      "outputs": [
        {
          "output_type": "stream",
          "text": [
            "Running from Container class.\n"
          ],
          "name": "stdout"
        }
      ]
    }
  ]
}
{
  "nbformat": 4,
  "nbformat_minor": 0,
  "metadata": {
    "colab": {
      "name": "Coding_exercise84.ipynb",
      "provenance": [],
      "authorship_tag": "ABX9TyNmklgzq8WQWnDbtpwsKZDk",
      "include_colab_link": true
    },
    "kernelspec": {
      "name": "python3",
      "display_name": "Python 3"
    },
    "language_info": {
      "name": "python"
    }
  },
  "cells": [
    {
      "cell_type": "markdown",
      "metadata": {
        "id": "view-in-github",
        "colab_type": "text"
      },
      "source": [
        "<a href=\"https://colab.research.google.com/github/sebifilip/test-colab/blob/main/Coding_exercise84.ipynb\" target=\"_parent\"><img src=\"https://colab.research.google.com/assets/colab-badge.svg\" alt=\"Open In Colab\"/></a>"
      ]
    },
    {
      "cell_type": "code",
      "metadata": {
        "id": "xSUZB1R-21BG"
      },
      "source": [
        "import time\n",
        " \n",
        " \n",
        "class Container:\n",
        " \n",
        "    @staticmethod\n",
        "    def get_current_time():\n",
        "        return time.strftime('%H:%M:%S', time.localtime())"
      ],
      "execution_count": 1,
      "outputs": []
    }
  ]
}
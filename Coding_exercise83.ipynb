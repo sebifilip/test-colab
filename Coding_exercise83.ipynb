{
  "nbformat": 4,
  "nbformat_minor": 0,
  "metadata": {
    "colab": {
      "name": "Coding_exercise83.ipynb",
      "provenance": [],
      "collapsed_sections": [],
      "authorship_tag": "ABX9TyO1chiLMycIucuwPl/jPN12",
      "include_colab_link": true
    },
    "kernelspec": {
      "name": "python3",
      "display_name": "Python 3"
    },
    "language_info": {
      "name": "python"
    }
  },
  "cells": [
    {
      "cell_type": "markdown",
      "metadata": {
        "id": "view-in-github",
        "colab_type": "text"
      },
      "source": [
        "<a href=\"https://colab.research.google.com/github/sebifilip/test-colab/blob/main/Coding_exercise83.ipynb\" target=\"_parent\"><img src=\"https://colab.research.google.com/assets/colab-badge.svg\" alt=\"Open In Colab\"/></a>"
      ]
    },
    {
      "cell_type": "code",
      "metadata": {
        "id": "Hy2QAnWQ02rq"
      },
      "source": [
        "import time\n",
        " \n",
        " \n",
        "class Container:\n",
        " \n",
        "    def get_current_time():\n",
        "        return time.strftime('%H:%M:%S', time.localtime())\n",
        " \n",
        "    get_current_time = staticmethod(get_current_time)"
      ],
      "execution_count": 2,
      "outputs": []
    }
  ]
}
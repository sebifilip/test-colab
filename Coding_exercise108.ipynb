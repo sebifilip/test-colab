{
  "nbformat": 4,
  "nbformat_minor": 0,
  "metadata": {
    "colab": {
      "name": "Coding_exercise108.ipynb",
      "provenance": [],
      "authorship_tag": "ABX9TyPNDZhF1koSnfBwpHmzQcy+",
      "include_colab_link": true
    },
    "kernelspec": {
      "name": "python3",
      "display_name": "Python 3"
    },
    "language_info": {
      "name": "python"
    }
  },
  "cells": [
    {
      "cell_type": "markdown",
      "metadata": {
        "id": "view-in-github",
        "colab_type": "text"
      },
      "source": [
        "<a href=\"https://colab.research.google.com/github/sebifilip/test-colab/blob/main/Coding_exercise108.ipynb\" target=\"_parent\"><img src=\"https://colab.research.google.com/assets/colab-badge.svg\" alt=\"Open In Colab\"/></a>"
      ]
    },
    {
      "cell_type": "code",
      "metadata": {
        "id": "cGJFU2rmj-Fr"
      },
      "source": [
        "class Container:\n",
        "    pass\n",
        "\n",
        "\n",
        "class PlasticContainer(Container):\n",
        "    pass\n",
        "\n",
        "\n",
        "class MetalContainer(Container):\n",
        "    pass\n",
        "\n",
        "\n",
        "class SmallPlasticContainer(PlasticContainer):\n",
        "    pass"
      ],
      "execution_count": null,
      "outputs": []
    }
  ]
}
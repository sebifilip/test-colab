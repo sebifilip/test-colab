{
  "nbformat": 4,
  "nbformat_minor": 0,
  "metadata": {
    "colab": {
      "name": "Coding_exercise78.ipynb",
      "provenance": [],
      "collapsed_sections": [],
      "authorship_tag": "ABX9TyMPuajZ7ZQ1Q7MGLelhEXUc",
      "include_colab_link": true
    },
    "kernelspec": {
      "name": "python3",
      "display_name": "Python 3"
    },
    "language_info": {
      "name": "python"
    }
  },
  "cells": [
    {
      "cell_type": "markdown",
      "metadata": {
        "id": "view-in-github",
        "colab_type": "text"
      },
      "source": [
        "<a href=\"https://colab.research.google.com/github/sebifilip/test-colab/blob/main/Coding_exercise78.ipynb\" target=\"_parent\"><img src=\"https://colab.research.google.com/assets/colab-badge.svg\" alt=\"Open In Colab\"/></a>"
      ]
    },
    {
      "cell_type": "code",
      "metadata": {
        "id": "VjefEW9IhegH",
        "colab": {
          "base_uri": "https://localhost:8080/"
        },
        "outputId": "944ed011-c4d1-4811-d656-aac480248df0"
      },
      "source": [
        "class Person:\n",
        " \n",
        "    def show_details(cls):\n",
        "        print(f'Running from {cls.__name__} class.')\n",
        "        \n",
        "    show_details = classmethod(show_details)\n",
        " \n",
        " \n",
        "Person.show_details()"
      ],
      "execution_count": 1,
      "outputs": [
        {
          "output_type": "stream",
          "text": [
            "Running from Person class.\n"
          ],
          "name": "stdout"
        }
      ]
    }
  ]
}
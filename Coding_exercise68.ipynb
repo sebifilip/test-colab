{
  "nbformat": 4,
  "nbformat_minor": 0,
  "metadata": {
    "colab": {
      "name": "Coding_exercise68.ipynb",
      "provenance": [],
      "collapsed_sections": [],
      "authorship_tag": "ABX9TyPa3g/wHRsTynL705aqGCSl",
      "include_colab_link": true
    },
    "kernelspec": {
      "name": "python3",
      "display_name": "Python 3"
    },
    "language_info": {
      "name": "python"
    }
  },
  "cells": [
    {
      "cell_type": "markdown",
      "metadata": {
        "id": "view-in-github",
        "colab_type": "text"
      },
      "source": [
        "<a href=\"https://colab.research.google.com/github/sebifilip/test-colab/blob/main/Coding_exercise68.ipynb\" target=\"_parent\"><img src=\"https://colab.research.google.com/assets/colab-badge.svg\" alt=\"Open In Colab\"/></a>"
      ]
    },
    {
      "cell_type": "code",
      "metadata": {
        "colab": {
          "base_uri": "https://localhost:8080/"
        },
        "id": "T9p3fvXf2cJp",
        "outputId": "72f6dc2d-7b00-4de2-bdbd-214aec8e6c32"
      },
      "source": [
        "class Pet:\n",
        "\n",
        "  def __init__(self, name, age):\n",
        "    self._name = name\n",
        "    self._age = age\n",
        "\n",
        "\n",
        "pet = Pet(\"Max\", 5)\n",
        "print(pet.__dict__)\n",
        "\n",
        "pet._name = \"Tom\"\n",
        "pet._age = 8\n",
        "print(pet.__dict__)"
      ],
      "execution_count": 1,
      "outputs": [
        {
          "output_type": "stream",
          "text": [
            "{'_name': 'Max', '_age': 5}\n",
            "{'_name': 'Tom', '_age': 8}\n"
          ],
          "name": "stdout"
        }
      ]
    }
  ]
}
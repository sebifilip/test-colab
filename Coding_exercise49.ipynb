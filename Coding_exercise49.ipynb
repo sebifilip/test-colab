{
  "nbformat": 4,
  "nbformat_minor": 0,
  "metadata": {
    "colab": {
      "name": "Coding_exercise49.ipynb",
      "provenance": [],
      "collapsed_sections": [],
      "authorship_tag": "ABX9TyP+ixTpWHNtc0CUTAkzBCeU",
      "include_colab_link": true
    },
    "kernelspec": {
      "name": "python3",
      "display_name": "Python 3"
    },
    "language_info": {
      "name": "python"
    }
  },
  "cells": [
    {
      "cell_type": "markdown",
      "metadata": {
        "id": "view-in-github",
        "colab_type": "text"
      },
      "source": [
        "<a href=\"https://colab.research.google.com/github/sebifilip/test-colab/blob/main/Coding_exercise49.ipynb\" target=\"_parent\"><img src=\"https://colab.research.google.com/assets/colab-badge.svg\" alt=\"Open In Colab\"/></a>"
      ]
    },
    {
      "cell_type": "code",
      "metadata": {
        "id": "U_zYbcAmGgGV",
        "colab": {
          "base_uri": "https://localhost:8080/"
        },
        "outputId": "93c749b9-6dba-477b-8103-cb0f9e913b08"
      },
      "source": [
        "class Car:\n",
        "\n",
        "    def __init__(self, brand, model, price, type_of_car=None):\n",
        "        self.brand = brand\n",
        "        self.model = model\n",
        "        self.price = price\n",
        "        self.type_of_car = type_of_car if type_of_car else 'sedan'\n",
        "\n",
        "car = Car('BMW', 'X3', 200000, 'SUV')\n",
        "print(car.__dict__)"
      ],
      "execution_count": 1,
      "outputs": [
        {
          "output_type": "stream",
          "text": [
            "{'brand': 'BMW', 'model': 'X3', 'price': 200000, 'type_of_car': 'SUV'}\n"
          ],
          "name": "stdout"
        }
      ]
    }
  ]
}
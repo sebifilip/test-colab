{
  "nbformat": 4,
  "nbformat_minor": 0,
  "metadata": {
    "colab": {
      "name": "Coding_exercise96.ipynb",
      "provenance": [],
      "collapsed_sections": [],
      "authorship_tag": "ABX9TyPvKKu4yFFhADEv/rSvzJlU",
      "include_colab_link": true
    },
    "kernelspec": {
      "name": "python3",
      "display_name": "Python 3"
    },
    "language_info": {
      "name": "python"
    }
  },
  "cells": [
    {
      "cell_type": "markdown",
      "metadata": {
        "id": "view-in-github",
        "colab_type": "text"
      },
      "source": [
        "<a href=\"https://colab.research.google.com/github/sebifilip/test-colab/blob/main/Coding_exercise96.ipynb\" target=\"_parent\"><img src=\"https://colab.research.google.com/assets/colab-badge.svg\" alt=\"Open In Colab\"/></a>"
      ]
    },
    {
      "cell_type": "code",
      "metadata": {
        "colab": {
          "base_uri": "https://localhost:8080/"
        },
        "id": "q0heIJyXJdjj",
        "outputId": "1ad32db8-2712-4a6e-ef64-603ca300e7dc"
      },
      "source": [
        "class Vector:\n",
        "\n",
        "    def __init__(self, *components):\n",
        "        self.components = components\n",
        "\n",
        "    def __repr__(self):\n",
        "        return f'Vector{self.components}'\n",
        "\n",
        "    def __str__(self):\n",
        "        return f'{self.components}'\n",
        "\n",
        "    def __len__(self):\n",
        "        return len(self.components) \n",
        "\n",
        "    def __add__(self, other):\n",
        "        components = tuple(x + y for x, y in zip(self.components, other.components))\n",
        "        return Vector(*components)\n",
        "\n",
        "    def __sub__(self, other):\n",
        "        components = tuple(x - y for x, y in zip(self.components, other.components))\n",
        "        return Vector(*components)\n",
        "\n",
        "\n",
        "v1 = Vector(4, 2)\n",
        "v2 = Vector(-1, 3)\n",
        "print(v1 - v2)"
      ],
      "execution_count": 2,
      "outputs": [
        {
          "output_type": "stream",
          "text": [
            "(5, -1)\n"
          ],
          "name": "stdout"
        }
      ]
    }
  ]
}
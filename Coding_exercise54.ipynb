{
  "nbformat": 4,
  "nbformat_minor": 0,
  "metadata": {
    "colab": {
      "name": "Coding_exercise54.ipynb",
      "provenance": [],
      "collapsed_sections": [],
      "authorship_tag": "ABX9TyN0ON2UySG8s7c13AuK+cnb",
      "include_colab_link": true
    },
    "kernelspec": {
      "name": "python3",
      "display_name": "Python 3"
    },
    "language_info": {
      "name": "python"
    }
  },
  "cells": [
    {
      "cell_type": "markdown",
      "metadata": {
        "id": "view-in-github",
        "colab_type": "text"
      },
      "source": [
        "<a href=\"https://colab.research.google.com/github/sebifilip/test-colab/blob/main/Coding_exercise54.ipynb\" target=\"_parent\"><img src=\"https://colab.research.google.com/assets/colab-badge.svg\" alt=\"Open In Colab\"/></a>"
      ]
    },
    {
      "cell_type": "code",
      "metadata": {
        "id": "PmZt6OZBZH40"
      },
      "source": [
        "class Laptop:\n",
        "\n",
        "    def __init__(self, brand, model, code, price, margin):\n",
        "        self.brand = brand\n",
        "        self._model = model\n",
        "        self._code = code\n",
        "        self.__price = price\n",
        "        self.__margin = margin\n",
        "\n",
        "    def display_private_attrs():\n",
        "      for attr in self.__dict__:\n",
        "\n",
        "laptop = Laptop('Acer', 'Predator', 'AC-100', 5490, 0.2)\n",
        "laptop.display_private_attrs()      "
      ],
      "execution_count": null,
      "outputs": []
    }
  ]
}
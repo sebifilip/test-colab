{
  "nbformat": 4,
  "nbformat_minor": 0,
  "metadata": {
    "colab": {
      "name": "Coding_exercise67.ipynb",
      "provenance": [],
      "collapsed_sections": [],
      "authorship_tag": "ABX9TyPHHyAmmZDGtlyMoQLOWgXh",
      "include_colab_link": true
    },
    "kernelspec": {
      "name": "python3",
      "display_name": "Python 3"
    },
    "language_info": {
      "name": "python"
    }
  },
  "cells": [
    {
      "cell_type": "markdown",
      "metadata": {
        "id": "view-in-github",
        "colab_type": "text"
      },
      "source": [
        "<a href=\"https://colab.research.google.com/github/sebifilip/test-colab/blob/main/Coding_exercise67.ipynb\" target=\"_parent\"><img src=\"https://colab.research.google.com/assets/colab-badge.svg\" alt=\"Open In Colab\"/></a>"
      ]
    },
    {
      "cell_type": "code",
      "metadata": {
        "colab": {
          "base_uri": "https://localhost:8080/"
        },
        "id": "iWq2sp5c14VB",
        "outputId": "04d311cc-4582-4883-a602-ea1774a68d2a"
      },
      "source": [
        "class Pet:\n",
        "\n",
        "  def __init__(self, name):\n",
        "    self._name = name\n",
        "\n",
        "  @property\n",
        "    def name(self):\n",
        "        return self._name\n",
        "\n",
        "   @name.setter\n",
        "    def name(self, value):\n",
        "        self._name = value\n",
        "\n",
        "pet = Pet(\"Max\")\n",
        "pet._name = \"Oscar\"\n",
        "print(pet.__dict__)"
      ],
      "execution_count": null,
      "outputs": [
        {
          "output_type": "stream",
          "text": [
            "{'_name': 'Oscar'}\n"
          ],
          "name": "stdout"
        }
      ]
    }
  ]
}
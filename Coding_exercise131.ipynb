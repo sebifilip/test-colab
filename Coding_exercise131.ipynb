{
  "nbformat": 4,
  "nbformat_minor": 0,
  "metadata": {
    "colab": {
      "name": "Coding_exercise131.ipynb",
      "provenance": [],
      "collapsed_sections": [],
      "authorship_tag": "ABX9TyPq9mhhDG0NTH8ZlbmuB4SP",
      "include_colab_link": true
    },
    "kernelspec": {
      "name": "python3",
      "display_name": "Python 3"
    },
    "language_info": {
      "name": "python"
    }
  },
  "cells": [
    {
      "cell_type": "markdown",
      "metadata": {
        "id": "view-in-github",
        "colab_type": "text"
      },
      "source": [
        "<a href=\"https://colab.research.google.com/github/sebifilip/test-colab/blob/main/Coding_exercise131.ipynb\" target=\"_parent\"><img src=\"https://colab.research.google.com/assets/colab-badge.svg\" alt=\"Open In Colab\"/></a>"
      ]
    },
    {
      "cell_type": "code",
      "metadata": {
        "id": "W4y8-oIIMDTN",
        "colab": {
          "base_uri": "https://localhost:8080/"
        },
        "outputId": "375a2583-283b-4aba-bf76-e101b01bb549"
      },
      "source": [
        "class Point:\n",
        "\n",
        "    def __init__(self, x, y):\n",
        "        self.x = x \n",
        "        self.y = y\n",
        "\n",
        "    def __repr__(self):\n",
        "        return f\"Point(x={self.x}, y={self.y})\"\n",
        "\n",
        "    def reset(self):\n",
        "        self.x = 0\n",
        "        self.y = 0\n",
        " \n",
        " \n",
        "p = Point(4, 2)\n",
        "print(p)\n",
        "p.reset()\n",
        "print(p)"
      ],
      "execution_count": 1,
      "outputs": [
        {
          "output_type": "stream",
          "text": [
            "Point(x=4, y=2)\n",
            "Point(x=0, y=0)\n"
          ],
          "name": "stdout"
        }
      ]
    }
  ]
}
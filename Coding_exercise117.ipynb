{
  "nbformat": 4,
  "nbformat_minor": 0,
  "metadata": {
    "colab": {
      "name": "Coding_exercise117.ipynb",
      "provenance": [],
      "collapsed_sections": [],
      "authorship_tag": "ABX9TyMomknigYP1lisnhYOONUPM",
      "include_colab_link": true
    },
    "kernelspec": {
      "name": "python3",
      "display_name": "Python 3"
    },
    "language_info": {
      "name": "python"
    }
  },
  "cells": [
    {
      "cell_type": "markdown",
      "metadata": {
        "id": "view-in-github",
        "colab_type": "text"
      },
      "source": [
        "<a href=\"https://colab.research.google.com/github/sebifilip/test-colab/blob/main/Coding_exercise117.ipynb\" target=\"_parent\"><img src=\"https://colab.research.google.com/assets/colab-badge.svg\" alt=\"Open In Colab\"/></a>"
      ]
    },
    {
      "cell_type": "code",
      "metadata": {
        "colab": {
          "base_uri": "https://localhost:8080/"
        },
        "id": "CF4KqN_UivYY",
        "outputId": "52a312e9-bfd5-4c57-cc70-348c9229e684"
      },
      "source": [
        "class Container:\n",
        "\n",
        "    category = 'general purpose'\n",
        "\n",
        "\n",
        "class TemperatureControlledContainer(Container):\n",
        "    \n",
        "    temp_range = (-25.0, 25.0)\n",
        " \n",
        " \n",
        "class RefrigeratedContainer(TemperatureControlledContainer):\n",
        "    \n",
        "    temp_range = (-25.0, 5.0)\n",
        " \n",
        " \n",
        "print(getattr(RefrigeratedContainer, 'temp_range'))"
      ],
      "execution_count": 3,
      "outputs": [
        {
          "output_type": "stream",
          "text": [
            "(-25.0, 5.0)\n"
          ],
          "name": "stdout"
        }
      ]
    }
  ]
}
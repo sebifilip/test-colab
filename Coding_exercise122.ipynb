{
  "nbformat": 4,
  "nbformat_minor": 0,
  "metadata": {
    "colab": {
      "name": "Coding_exercise122.ipynb",
      "provenance": [],
      "collapsed_sections": [],
      "authorship_tag": "ABX9TyOyCHSEDKfwhL8zBql58OcC",
      "include_colab_link": true
    },
    "kernelspec": {
      "name": "python3",
      "display_name": "Python 3"
    },
    "language_info": {
      "name": "python"
    }
  },
  "cells": [
    {
      "cell_type": "markdown",
      "metadata": {
        "id": "view-in-github",
        "colab_type": "text"
      },
      "source": [
        "<a href=\"https://colab.research.google.com/github/sebifilip/test-colab/blob/main/Coding_exercise122.ipynb\" target=\"_parent\"><img src=\"https://colab.research.google.com/assets/colab-badge.svg\" alt=\"Open In Colab\"/></a>"
      ]
    },
    {
      "cell_type": "code",
      "metadata": {
        "colab": {
          "base_uri": "https://localhost:8080/"
        },
        "id": "R3iYZ95Lp6Mv",
        "outputId": "6ebd3ab5-cdfb-41c5-f5a5-62ab9be7fae3"
      },
      "source": [
        "class Person:\n",
        "    \n",
        "    def __init__(self, first_name, last_name, age):\n",
        "        self.first_name = first_name\n",
        "        self.last_name = last_name\n",
        "        self.age = age\n",
        "\n",
        "\n",
        "class Department:\n",
        "    \n",
        "    def __init__(self, dept_name, short_dept_name):\n",
        "        self.dept_name = dept_name\n",
        "        self.short_dept_name = short_dept_name\n",
        "\n",
        "\n",
        "class Worker(Person, Department):\n",
        "    \n",
        "    def __init__(self, first_name, last_name, age, dept_name):\n",
        "        Person.__init__(self, first_name, last_name, age)\n",
        "        Department.__init__(self, dept_name)\n",
        "\n",
        "\n",
        "print(Worker.mro())"
      ],
      "execution_count": 1,
      "outputs": [
        {
          "output_type": "stream",
          "text": [
            "[<class '__main__.Worker'>, <class '__main__.Person'>, <class '__main__.Department'>, <class 'object'>]\n"
          ],
          "name": "stdout"
        }
      ]
    }
  ]
}
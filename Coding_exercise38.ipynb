{
  "nbformat": 4,
  "nbformat_minor": 0,
  "metadata": {
    "colab": {
      "name": "Coding_exercise38.ipynb",
      "provenance": [],
      "collapsed_sections": [],
      "authorship_tag": "ABX9TyNV/IynCLYmO+M9dKaX7AGW",
      "include_colab_link": true
    },
    "kernelspec": {
      "name": "python3",
      "display_name": "Python 3"
    },
    "language_info": {
      "name": "python"
    }
  },
  "cells": [
    {
      "cell_type": "markdown",
      "metadata": {
        "id": "view-in-github",
        "colab_type": "text"
      },
      "source": [
        "<a href=\"https://colab.research.google.com/github/sebifilip/test-colab/blob/main/Coding_exercise38.ipynb\" target=\"_parent\"><img src=\"https://colab.research.google.com/assets/colab-badge.svg\" alt=\"Open In Colab\"/></a>"
      ]
    },
    {
      "cell_type": "code",
      "metadata": {
        "id": "4RTqIIJyJcu2",
        "colab": {
          "base_uri": "https://localhost:8080/"
        },
        "outputId": "8aa13725-235f-45f0-de56-cf8bb661cae1"
      },
      "source": [
        "class Book:\n",
        "    language = 'ENG'\n",
        "    is_ebook = True\n",
        "\n",
        "book_1 = Book()\n",
        "book_2 = Book()\n",
        "\n",
        "book_1.author = 'Dan Brown'\n",
        "book_1.title = 'Inferno'\n",
        "book_2.author = 'Dan Brown'\n",
        "book_2.title = 'The Da Vinci Code'\n",
        "book_2.year_of_publishment = 2003\n",
        "\n",
        "books = [book_1, book_2]\n",
        "\n",
        "for b in books:\n",
        "  for a in b.__dict__:\n",
        "    print(f\"{a} -> {getattr(b, a)}\")\n",
        "  print(\"----------------------------\")"
      ],
      "execution_count": 3,
      "outputs": [
        {
          "output_type": "stream",
          "text": [
            "author -> Dan Brown\n",
            "title -> Inferno\n",
            "----------------------------\n",
            "author -> Dan Brown\n",
            "title -> The Da Vinci Code\n",
            "year_of_publishment -> 2003\n",
            "----------------------------\n"
          ],
          "name": "stdout"
        }
      ]
    }
  ]
}
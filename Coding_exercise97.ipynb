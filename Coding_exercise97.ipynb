{
  "nbformat": 4,
  "nbformat_minor": 0,
  "metadata": {
    "colab": {
      "name": "Coding_exercise97.ipynb",
      "provenance": [],
      "collapsed_sections": [],
      "authorship_tag": "ABX9TyPLf3ih8gidr6mGsY5S2BLs",
      "include_colab_link": true
    },
    "kernelspec": {
      "name": "python3",
      "display_name": "Python 3"
    },
    "language_info": {
      "name": "python"
    }
  },
  "cells": [
    {
      "cell_type": "markdown",
      "metadata": {
        "id": "view-in-github",
        "colab_type": "text"
      },
      "source": [
        "<a href=\"https://colab.research.google.com/github/sebifilip/test-colab/blob/main/Coding_exercise97.ipynb\" target=\"_parent\"><img src=\"https://colab.research.google.com/assets/colab-badge.svg\" alt=\"Open In Colab\"/></a>"
      ]
    },
    {
      "cell_type": "code",
      "metadata": {
        "colab": {
          "base_uri": "https://localhost:8080/"
        },
        "id": "7o9VyXu9OnjE",
        "outputId": "d964745a-d918-4bf9-dd46-26ae794ff2d2"
      },
      "source": [
        "class Vector:\n",
        "\n",
        "    def __init__(self, *components):\n",
        "        self.components = components\n",
        "\n",
        "    def __repr__(self):\n",
        "        return f'Vector{self.components}'\n",
        "\n",
        "    def __str__(self):\n",
        "        return f'{self.components}'\n",
        "\n",
        "    def __len__(self):\n",
        "        return len(self.components)\n",
        "\n",
        "    def __add__(self, other):\n",
        "        components = tuple(x + y for x, y in zip(self.components, other.components))\n",
        "        return Vector(*components)     \n",
        "\n",
        "    def __sub__(self, other):\n",
        "        components = tuple(x - y for x, y in zip(self.components, other.components))\n",
        "        return Vector(*components)\n",
        "\n",
        "    def __mul__(self, other):\n",
        "        components = tuple(x * y for x, y in zip(self.components, other.components))\n",
        "        return Vector(*components)\n",
        "\n",
        "\n",
        "v1 = Vector(4, 2)\n",
        "v2 = Vector(-1, 3)\n",
        "print(v1 * v2)"
      ],
      "execution_count": 1,
      "outputs": [
        {
          "output_type": "stream",
          "text": [
            "(-4, 6)\n"
          ],
          "name": "stdout"
        }
      ]
    }
  ]
}
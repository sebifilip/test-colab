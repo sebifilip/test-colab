{
  "nbformat": 4,
  "nbformat_minor": 0,
  "metadata": {
    "colab": {
      "name": "Coding_exercise123.ipynb",
      "provenance": [],
      "collapsed_sections": [],
      "authorship_tag": "ABX9TyNS00Tt+7DYYFANtgDyLUy9",
      "include_colab_link": true
    },
    "kernelspec": {
      "name": "python3",
      "display_name": "Python 3"
    },
    "language_info": {
      "name": "python"
    }
  },
  "cells": [
    {
      "cell_type": "markdown",
      "metadata": {
        "id": "view-in-github",
        "colab_type": "text"
      },
      "source": [
        "<a href=\"https://colab.research.google.com/github/sebifilip/test-colab/blob/main/Coding_exercise123.ipynb\" target=\"_parent\"><img src=\"https://colab.research.google.com/assets/colab-badge.svg\" alt=\"Open In Colab\"/></a>"
      ]
    },
    {
      "cell_type": "code",
      "metadata": {
        "id": "2oteiIi1B8bL"
      },
      "source": [
        "class Figure():\n",
        " \n",
        "    def area(self):\n",
        "        pass\n",
        " \n",
        " \n",
        "class Square(Figure):\n",
        " \n",
        "    def __init__(self, a):\n",
        "        self.a = a\n",
        " \n",
        "    def area(self):\n",
        "        return self.a * self.a\n",
        " \n",
        " \n",
        "try:\n",
        "    figure = Figure()\n",
        "except TypeError as error:\n",
        "    print(error)"
      ],
      "execution_count": 4,
      "outputs": []
    }
  ]
}
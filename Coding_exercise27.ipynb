{
  "nbformat": 4,
  "nbformat_minor": 0,
  "metadata": {
    "colab": {
      "name": "Coding_exercise27.ipynb",
      "provenance": [],
      "collapsed_sections": [],
      "authorship_tag": "ABX9TyOHMh3SIPtf++LY7CbLpSM/",
      "include_colab_link": true
    },
    "kernelspec": {
      "name": "python3",
      "display_name": "Python 3"
    },
    "language_info": {
      "name": "python"
    }
  },
  "cells": [
    {
      "cell_type": "markdown",
      "metadata": {
        "id": "view-in-github",
        "colab_type": "text"
      },
      "source": [
        "<a href=\"https://colab.research.google.com/github/sebifilip/test-colab/blob/main/Coding_exercise27.ipynb\" target=\"_parent\"><img src=\"https://colab.research.google.com/assets/colab-badge.svg\" alt=\"Open In Colab\"/></a>"
      ]
    },
    {
      "cell_type": "code",
      "metadata": {
        "colab": {
          "base_uri": "https://localhost:8080/"
        },
        "id": "8vvaWvc_wa-m",
        "outputId": "811bd8a2-a070-4b0e-8cc7-fdbde494b903"
      },
      "source": [
        "class Phone:\n",
        "  brand = 'Samsung'\n",
        "  model = 'Galaxy'\n",
        "\n",
        "\n",
        "print(f\"brand = {Phone.brand}\")\n",
        "print(f\"brand = {Phone.model}\")"
      ],
      "execution_count": 2,
      "outputs": [
        {
          "output_type": "stream",
          "text": [
            "brand = Samsung\n",
            "brand = Galaxy\n"
          ],
          "name": "stdout"
        }
      ]
    }
  ]
}
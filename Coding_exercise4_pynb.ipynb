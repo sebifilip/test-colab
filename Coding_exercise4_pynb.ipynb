{
  "nbformat": 4,
  "nbformat_minor": 0,
  "metadata": {
    "colab": {
      "name": "Coding_exercise4.pynb",
      "provenance": [],
      "collapsed_sections": [],
      "authorship_tag": "ABX9TyMvKdXP2HW+8gIfnwUmUTVi",
      "include_colab_link": true
    },
    "kernelspec": {
      "name": "python3",
      "display_name": "Python 3"
    },
    "language_info": {
      "name": "python"
    }
  },
  "cells": [
    {
      "cell_type": "markdown",
      "metadata": {
        "id": "view-in-github",
        "colab_type": "text"
      },
      "source": [
        "<a href=\"https://colab.research.google.com/github/sebifilip/test-colab/blob/main/Coding_exercise4_pynb.ipynb\" target=\"_parent\"><img src=\"https://colab.research.google.com/assets/colab-badge.svg\" alt=\"Open In Colab\"/></a>"
      ]
    },
    {
      "cell_type": "code",
      "metadata": {
        "colab": {
          "base_uri": "https://localhost:8080/"
        },
        "id": "YLJ0ob97adPz",
        "outputId": "e4381343-075f-4047-87a6-069e1a30159d"
      },
      "source": [
        "import uuid\n",
        "\n",
        "\n",
        "class Product:\n",
        "\n",
        "    def __init__(self, product_name, product_id, price):\n",
        "        self.product_name = product_name\n",
        "        self.product_id = product_id\n",
        "        self.price = price\n",
        "\n",
        "    def __repr__(self):\n",
        "        return f\"Product(product_name='{self.product_name}', price={self.price})\"\n",
        "\n",
        "\n",
        "product = Product('Mobile Phone', '54274', 2900)\n",
        "\n",
        "print(product.__dict__)"
      ],
      "execution_count": null,
      "outputs": [
        {
          "output_type": "stream",
          "text": [
            "{'product_name': 'Mobile Phone', 'product_id': '54274', 'price': 2900}\n"
          ],
          "name": "stdout"
        }
      ]
    }
  ]
}
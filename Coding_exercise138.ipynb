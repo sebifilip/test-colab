{
  "nbformat": 4,
  "nbformat_minor": 0,
  "metadata": {
    "colab": {
      "name": "Coding_exercise138.ipynb",
      "provenance": [],
      "collapsed_sections": [],
      "authorship_tag": "ABX9TyNoIP0feiU/x0xO1E1eb0OC",
      "include_colab_link": true
    },
    "kernelspec": {
      "name": "python3",
      "display_name": "Python 3"
    },
    "language_info": {
      "name": "python"
    }
  },
  "cells": [
    {
      "cell_type": "markdown",
      "metadata": {
        "id": "view-in-github",
        "colab_type": "text"
      },
      "source": [
        "<a href=\"https://colab.research.google.com/github/sebifilip/test-colab/blob/main/Coding_exercise138.ipynb\" target=\"_parent\"><img src=\"https://colab.research.google.com/assets/colab-badge.svg\" alt=\"Open In Colab\"/></a>"
      ]
    },
    {
      "cell_type": "code",
      "metadata": {
        "colab": {
          "base_uri": "https://localhost:8080/"
        },
        "id": "GMjcnVqbhKXn",
        "outputId": "622d38d8-6d52-452a-8b56-9fbae1c767b7"
      },
      "source": [
        "import datetime\n",
        "\n",
        "\n",
        "class Note:\n",
        "\n",
        "    def __init__(self, content):\n",
        "        self.content = content\n",
        "        self.creation_time = datetime.datetime.now().strftime('%m-%d-%Y %H:%M:%S')\n",
        "\n",
        "    def __repr__(self):\n",
        "        return f\"Note(content='{self.content}')\"        \n",
        "\n",
        "    def find(self, word):\n",
        "        return word.lower() in self.content.lower()\n",
        "\n",
        "    \n",
        "class Notebook:\n",
        "\n",
        "    def __init__(self):\n",
        "        self.notes = []\n",
        "\n",
        "    def new_note(self, content):\n",
        "        self.notes.append(Note(content))\n",
        "\n",
        "    def display_notes(self):\n",
        "        for note in self.notes:\n",
        "            print(note.content)\n",
        "\n",
        "    def search(self, value):\n",
        "        for note in self.notes:\n",
        "            if note.find(value):\n",
        "              return note\n",
        "\n",
        "\n",
        "notebook = Notebook()\n",
        "notebook.new_note('Big Data')\n",
        "notebook.new_note('Data Science')\n",
        "notebook.new_note('Machine Learning')\n",
        "print(notebook.search('data'))"
      ],
      "execution_count": 3,
      "outputs": [
        {
          "output_type": "stream",
          "text": [
            "Note(content='Big Data')\n"
          ],
          "name": "stdout"
        }
      ]
    }
  ]
}
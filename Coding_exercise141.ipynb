{
  "nbformat": 4,
  "nbformat_minor": 0,
  "metadata": {
    "colab": {
      "name": "Coding_exercise141.ipynb",
      "provenance": [],
      "collapsed_sections": [],
      "authorship_tag": "ABX9TyPSb4H0kBdp6F1KlvpzW24X",
      "include_colab_link": true
    },
    "kernelspec": {
      "name": "python3",
      "display_name": "Python 3"
    },
    "language_info": {
      "name": "python"
    }
  },
  "cells": [
    {
      "cell_type": "markdown",
      "metadata": {
        "id": "view-in-github",
        "colab_type": "text"
      },
      "source": [
        "<a href=\"https://colab.research.google.com/github/sebifilip/test-colab/blob/main/Coding_exercise141.ipynb\" target=\"_parent\"><img src=\"https://colab.research.google.com/assets/colab-badge.svg\" alt=\"Open In Colab\"/></a>"
      ]
    },
    {
      "cell_type": "code",
      "metadata": {
        "colab": {
          "base_uri": "https://localhost:8080/"
        },
        "id": "BqGRts8soaeB",
        "outputId": "6327a2e3-e3ab-4139-f198-2555ecc8f0d7"
      },
      "source": [
        "class ClientList(list):\n",
        "\n",
        "    def search_email(self, value):\n",
        "        result = [client for client in self if value in client.email]\n",
        "        return result\n",
        "\n",
        "class Client:\n",
        "\n",
        "    all_clients = ClientList()\n",
        "\n",
        "    def __init__(self, name, email):\n",
        "        self.name = name\n",
        "        self.email = email\n",
        "        Client.all_clients.append(self)\n",
        "\n",
        "    def __repr__(self):\n",
        "        return f\"Client(name='{self.name}', email='{self.email}')\"\n",
        "\n",
        "client1 = Client('Tom', 'sample@gmail.com')\n",
        "client2 = Client('Donald', 'sales@gmail.com')\n",
        "client3 = Client('Mike', 'sales@yahoo.com')\n",
        "client4 = Client('Lisa', 'info@gmail.com')\n",
        " \n",
        "for client in Client.all_clients.search_email('gmail.com'):\n",
        "    print(client)"
      ],
      "execution_count": 1,
      "outputs": [
        {
          "output_type": "stream",
          "text": [
            "Client(name='Tom', email='sample@gmail.com')\n",
            "Client(name='Donald', email='sales@gmail.com')\n",
            "Client(name='Lisa', email='info@gmail.com')\n"
          ],
          "name": "stdout"
        }
      ]
    }
  ]
}
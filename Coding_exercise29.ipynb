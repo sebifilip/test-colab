{
  "nbformat": 4,
  "nbformat_minor": 0,
  "metadata": {
    "colab": {
      "name": "Coding_exercise29.ipynb",
      "provenance": [],
      "collapsed_sections": [],
      "authorship_tag": "ABX9TyNlo7P4MoJtKfAYHgdut3C1",
      "include_colab_link": true
    },
    "kernelspec": {
      "name": "python3",
      "display_name": "Python 3"
    },
    "language_info": {
      "name": "python"
    }
  },
  "cells": [
    {
      "cell_type": "markdown",
      "metadata": {
        "id": "view-in-github",
        "colab_type": "text"
      },
      "source": [
        "<a href=\"https://colab.research.google.com/github/sebifilip/test-colab/blob/main/Coding_exercise29.ipynb\" target=\"_parent\"><img src=\"https://colab.research.google.com/assets/colab-badge.svg\" alt=\"Open In Colab\"/></a>"
      ]
    },
    {
      "cell_type": "code",
      "metadata": {
        "colab": {
          "base_uri": "https://localhost:8080/"
        },
        "id": "8NePTPsOyMGq",
        "outputId": "2fbaca40-76fd-44f8-8c54-d16504f58f38"
      },
      "source": [
        "class OnlineShop:\n",
        "  sector = 'electronics'\n",
        "  sector_code = 'ELE'\n",
        "  is_public_company = False\n",
        "\n",
        "\n",
        "OnlineShop.country = 'USA'\n",
        "\n",
        "print(OnlineShop.__dict__.keys())"
      ],
      "execution_count": 2,
      "outputs": [
        {
          "output_type": "stream",
          "text": [
            "dict_keys(['__module__', 'sector', 'sector_code', 'is_public_company', '__dict__', '__weakref__', '__doc__', 'country'])\n"
          ],
          "name": "stdout"
        }
      ]
    }
  ]
}
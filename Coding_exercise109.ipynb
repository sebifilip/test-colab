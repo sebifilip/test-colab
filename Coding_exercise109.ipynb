{
  "nbformat": 4,
  "nbformat_minor": 0,
  "metadata": {
    "colab": {
      "name": "Coding_exercise109.ipynb",
      "provenance": [],
      "collapsed_sections": [],
      "authorship_tag": "ABX9TyPXpEeWDfny/Fqb95+XvCta",
      "include_colab_link": true
    },
    "kernelspec": {
      "name": "python3",
      "display_name": "Python 3"
    },
    "language_info": {
      "name": "python"
    }
  },
  "cells": [
    {
      "cell_type": "markdown",
      "metadata": {
        "id": "view-in-github",
        "colab_type": "text"
      },
      "source": [
        "<a href=\"https://colab.research.google.com/github/sebifilip/test-colab/blob/main/Coding_exercise109.ipynb\" target=\"_parent\"><img src=\"https://colab.research.google.com/assets/colab-badge.svg\" alt=\"Open In Colab\"/></a>"
      ]
    },
    {
      "cell_type": "code",
      "metadata": {
        "colab": {
          "base_uri": "https://localhost:8080/"
        },
        "id": "52XR7asJkO9z",
        "outputId": "9e5ec288-35e0-4f69-9dad-193d07ad1796"
      },
      "source": [
        "class Vehicle:\n",
        "\n",
        "    def __init__(self, category=None):\n",
        "        self.category = category if category else 'land vehicle'\n",
        "\n",
        "    def __repr__(self):\n",
        "        return f\"{self.__class__.__name__}(category='{self.category}')\" \n",
        "\n",
        "    \n",
        "class LandVehicle(Vehicle):\n",
        "    pass\n",
        "\n",
        "\n",
        "class AirVehicle(Vehicle):\n",
        "\n",
        "    def __init__(self, category=None):\n",
        "        self.category = category if category else 'air vehicle'   \n",
        "\n",
        "\n",
        "instances = [Vehicle(), LandVehicle(), AirVehicle()]\n",
        "\n",
        "for instance in instances:\n",
        "    print(instance)"
      ],
      "execution_count": 1,
      "outputs": [
        {
          "output_type": "stream",
          "text": [
            "Vehicle(category='land vehicle')\n",
            "LandVehicle(category='land vehicle')\n",
            "AirVehicle(category='air vehicle')\n"
          ],
          "name": "stdout"
        }
      ]
    }
  ]
}
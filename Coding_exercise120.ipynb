{
  "nbformat": 4,
  "nbformat_minor": 0,
  "metadata": {
    "colab": {
      "name": "Coding_exercise120.ipynb",
      "provenance": [],
      "collapsed_sections": [],
      "authorship_tag": "ABX9TyOwTOYRq6vhUQmgamv3K4zw",
      "include_colab_link": true
    },
    "kernelspec": {
      "name": "python3",
      "display_name": "Python 3"
    },
    "language_info": {
      "name": "python"
    }
  },
  "cells": [
    {
      "cell_type": "markdown",
      "metadata": {
        "id": "view-in-github",
        "colab_type": "text"
      },
      "source": [
        "<a href=\"https://colab.research.google.com/github/sebifilip/test-colab/blob/main/Coding_exercise120.ipynb\" target=\"_parent\"><img src=\"https://colab.research.google.com/assets/colab-badge.svg\" alt=\"Open In Colab\"/></a>"
      ]
    },
    {
      "cell_type": "code",
      "metadata": {
        "colab": {
          "base_uri": "https://localhost:8080/"
        },
        "id": "9bKNmzwkl7T0",
        "outputId": "83394dad-3426-4828-ce49-26b341801116"
      },
      "source": [
        "class Person:\n",
        "    \n",
        "    def __init__(self, first_name, last_name, age):\n",
        "        self.first_name = first_name\n",
        "        self.last_name = last_name\n",
        "        self.age = age\n",
        "\n",
        "\n",
        "class Department:\n",
        "    \n",
        "    def __init__(self, dept_name, short_dept_name):\n",
        "        self.dept_name = dept_name\n",
        "        self.short_dept_name = short_dept_name\n",
        " \n",
        " \n",
        "class Worker(Person, Department):\n",
        "    pass\n",
        " \n",
        " \n",
        "dept = Department('Information Technology', 'IT')\n",
        "print(dept.__dict__)"
      ],
      "execution_count": 1,
      "outputs": [
        {
          "output_type": "stream",
          "text": [
            "{'dept_name': 'Information Technology', 'short_dept_name': 'IT'}\n"
          ],
          "name": "stdout"
        }
      ]
    }
  ]
}
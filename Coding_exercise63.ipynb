{
  "nbformat": 4,
  "nbformat_minor": 0,
  "metadata": {
    "colab": {
      "name": "Coding_exercise63.ipynb",
      "provenance": [],
      "authorship_tag": "ABX9TyOStaw4oFTRn3HtIFW1TakG",
      "include_colab_link": true
    },
    "kernelspec": {
      "name": "python3",
      "display_name": "Python 3"
    },
    "language_info": {
      "name": "python"
    }
  },
  "cells": [
    {
      "cell_type": "markdown",
      "metadata": {
        "id": "view-in-github",
        "colab_type": "text"
      },
      "source": [
        "<a href=\"https://colab.research.google.com/github/sebifilip/test-colab/blob/main/Coding_exercise63.ipynb\" target=\"_parent\"><img src=\"https://colab.research.google.com/assets/colab-badge.svg\" alt=\"Open In Colab\"/></a>"
      ]
    },
    {
      "cell_type": "code",
      "metadata": {
        "id": "KmZPb96rw5Bh",
        "colab": {
          "base_uri": "https://localhost:8080/"
        },
        "outputId": "a60b0227-753a-486f-fc27-bce6d04edf47"
      },
      "source": [
        "class Person:\n",
        " \n",
        "    def __init__(self, first_name, last_name):\n",
        "        self._first_name = first_name\n",
        "        self._last_name = last_name\n",
        " \n",
        "    def get_first_name(self):\n",
        "        return self._first_name\n",
        " \n",
        "    def set_first_name(self, value):\n",
        "        self._first_name = value\n",
        " \n",
        "    def get_last_name(self):\n",
        "        return self._last_name\n",
        " \n",
        "    def set_last_name(self, value):\n",
        "        self._last_name = value\n",
        " \n",
        "    first_name = property(fget=get_first_name, fset=set_first_name)\n",
        "    last_name = property(fget=get_last_name, fset=set_last_name)\n",
        "        \n",
        " \n",
        "person = Person('John', 'Dow')\n",
        "print(person.first_name)\n",
        "print(person.last_name)\n",
        " \n",
        "person.first_name = 'Tom'\n",
        "person.last_name = 'Smith'\n",
        "print(person.__dict__)\n"
      ],
      "execution_count": null,
      "outputs": [
        {
          "output_type": "stream",
          "text": [
            "John\n",
            "Dow\n",
            "{'_first_name': 'Tom', '_last_name': 'Smith'}\n"
          ],
          "name": "stdout"
        }
      ]
    }
  ]
}
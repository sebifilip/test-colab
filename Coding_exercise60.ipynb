{
  "nbformat": 4,
  "nbformat_minor": 0,
  "metadata": {
    "colab": {
      "name": "Coding_exercise60.ipynb",
      "provenance": [],
      "collapsed_sections": [],
      "authorship_tag": "ABX9TyN+yxBMla9VV9Px49Ty7UQL",
      "include_colab_link": true
    },
    "kernelspec": {
      "name": "python3",
      "display_name": "Python 3"
    },
    "language_info": {
      "name": "python"
    }
  },
  "cells": [
    {
      "cell_type": "markdown",
      "metadata": {
        "id": "view-in-github",
        "colab_type": "text"
      },
      "source": [
        "<a href=\"https://colab.research.google.com/github/sebifilip/test-colab/blob/main/Coding_exercise60.ipynb\" target=\"_parent\"><img src=\"https://colab.research.google.com/assets/colab-badge.svg\" alt=\"Open In Colab\"/></a>"
      ]
    },
    {
      "cell_type": "code",
      "metadata": {
        "id": "sZIbXA4VrAOz",
        "colab": {
          "base_uri": "https://localhost:8080/"
        },
        "outputId": "f4d81835-dd6e-438b-b2e3-415d59cd732c"
      },
      "source": [
        "class Person:\n",
        "\n",
        "  def __init__(self, first_name):\n",
        "    self._first_name = first_name\n",
        "\n",
        "  def get_first_name(self):\n",
        "    return self._first_name\n",
        "\n",
        "  first_name = property(fget = get_first_name)\n",
        "\n",
        "person = Person(\"John\")\n",
        "print(person._first_name)"
      ],
      "execution_count": 3,
      "outputs": [
        {
          "output_type": "stream",
          "text": [
            "John\n"
          ],
          "name": "stdout"
        }
      ]
    }
  ]
}
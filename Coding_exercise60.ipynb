{
  "nbformat": 4,
  "nbformat_minor": 0,
  "metadata": {
    "colab": {
      "name": "Coding_exercise60.ipynb",
      "provenance": [],
      "collapsed_sections": [],
      "authorship_tag": "ABX9TyMCI0Ki8qZ65mGos2UOGznX",
      "include_colab_link": true
    },
    "kernelspec": {
      "name": "python3",
      "display_name": "Python 3"
    },
    "language_info": {
      "name": "python"
    }
  },
  "cells": [
    {
      "cell_type": "markdown",
      "metadata": {
        "id": "view-in-github",
        "colab_type": "text"
      },
      "source": [
        "<a href=\"https://colab.research.google.com/github/sebifilip/test-colab/blob/main/Coding_exercise60.ipynb\" target=\"_parent\"><img src=\"https://colab.research.google.com/assets/colab-badge.svg\" alt=\"Open In Colab\"/></a>"
      ]
    },
    {
      "cell_type": "code",
      "metadata": {
        "id": "sZIbXA4VrAOz",
        "colab": {
          "base_uri": "https://localhost:8080/"
        },
        "outputId": "9f2c3c33-c90b-4279-f426-fe810dcfdbdc"
      },
      "source": [
        "class Person:\n",
        "\n",
        "  def __init__(self, first_name):\n",
        "    self._first_name = first_name\n",
        "\n",
        "  def get_first_name(self):\n",
        "    return self._first_name\n",
        "\n",
        "person = Person(\"John\")\n",
        "print(person._first_name)"
      ],
      "execution_count": 1,
      "outputs": [
        {
          "output_type": "stream",
          "text": [
            "John\n"
          ],
          "name": "stdout"
        }
      ]
    }
  ]
}
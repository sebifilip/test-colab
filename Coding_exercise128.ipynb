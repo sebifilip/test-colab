{
  "nbformat": 4,
  "nbformat_minor": 0,
  "metadata": {
    "colab": {
      "name": "Coding_exercise128.ipynb",
      "provenance": [],
      "collapsed_sections": [],
      "authorship_tag": "ABX9TyPlDYS2B9kWyXynvL1fK+mr",
      "include_colab_link": true
    },
    "kernelspec": {
      "name": "python3",
      "display_name": "Python 3"
    },
    "language_info": {
      "name": "python"
    }
  },
  "cells": [
    {
      "cell_type": "markdown",
      "metadata": {
        "id": "view-in-github",
        "colab_type": "text"
      },
      "source": [
        "<a href=\"https://colab.research.google.com/github/sebifilip/test-colab/blob/main/Coding_exercise128.ipynb\" target=\"_parent\"><img src=\"https://colab.research.google.com/assets/colab-badge.svg\" alt=\"Open In Colab\"/></a>"
      ]
    },
    {
      "cell_type": "code",
      "metadata": {
        "colab": {
          "base_uri": "https://localhost:8080/"
        },
        "id": "jKBxQFRUKaRJ",
        "outputId": "80d231cb-4339-49fe-8301-c525fa0def8a"
      },
      "source": [
        "from abc import ABC, abstractmethod\n",
        "\n",
        "\n",
        "class TaxPayer(ABC):\n",
        "\n",
        "    def __init__(self, salary):\n",
        "        self.salary = salary\n",
        "\n",
        "    @abstractmethod\n",
        "    def calculate_tax(self):\n",
        "        pass\n",
        "\n",
        "\n",
        "class StudentTaxPayer(TaxPayer):\n",
        "\n",
        "    def calculate_tax(self):\n",
        "        return self.salary * 0.15\n",
        "\n",
        "\n",
        "class DisabledTaxPayer(TaxPayer):\n",
        " \n",
        "    def calculate_tax(self):\n",
        "        return self.salary * 0.12\n",
        " \n",
        " \n",
        "class WorkerTaxPayer(TaxPayer):\n",
        " \n",
        "    def calculate_tax(self):\n",
        "        if self.salary < 80000:\n",
        "            return self.salary * 0.17\n",
        "        else:\n",
        "            return 80000 * 0.17 + (self.salary - 80000) * 0.32\n",
        " \n",
        " \n",
        "worker1 = WorkerTaxPayer(70000)\n",
        "worker2 = WorkerTaxPayer(95000)\n",
        "print(worker1.calculate_tax())\n",
        "print(worker2.calculate_tax())"
      ],
      "execution_count": 1,
      "outputs": [
        {
          "output_type": "stream",
          "text": [
            "11900.0\n",
            "18400.0\n"
          ],
          "name": "stdout"
        }
      ]
    }
  ]
}
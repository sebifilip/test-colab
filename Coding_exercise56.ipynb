{
  "nbformat": 4,
  "nbformat_minor": 0,
  "metadata": {
    "colab": {
      "name": "Coding_exercise56.ipynb",
      "provenance": [],
      "collapsed_sections": [],
      "authorship_tag": "ABX9TyO0z34/5SM2SxTSxrPmyG28",
      "include_colab_link": true
    },
    "kernelspec": {
      "name": "python3",
      "display_name": "Python 3"
    },
    "language_info": {
      "name": "python"
    }
  },
  "cells": [
    {
      "cell_type": "markdown",
      "metadata": {
        "id": "view-in-github",
        "colab_type": "text"
      },
      "source": [
        "<a href=\"https://colab.research.google.com/github/sebifilip/test-colab/blob/main/Coding_exercise56.ipynb\" target=\"_parent\"><img src=\"https://colab.research.google.com/assets/colab-badge.svg\" alt=\"Open In Colab\"/></a>"
      ]
    },
    {
      "cell_type": "code",
      "metadata": {
        "colab": {
          "base_uri": "https://localhost:8080/"
        },
        "id": "7-MCBzEugStM",
        "outputId": "bfff68e4-da01-4637-a416-1d6e455ab367"
      },
      "source": [
        "class Laptop:\n",
        "\n",
        "  def __init__(self, price):\n",
        "    self._price = price\n",
        "\n",
        "  def get_price(self):\n",
        "    return self._price\n",
        "\n",
        "  def set_price(self, val):\n",
        "    self._price = val\n",
        "\n",
        "\n",
        "laptop = Laptop(3499)\n",
        "print(laptop.get_price())\n",
        "laptop.set_price(3999)\n",
        "print(laptop.get_price())"
      ],
      "execution_count": 3,
      "outputs": [
        {
          "output_type": "stream",
          "text": [
            "3499\n",
            "3999\n"
          ],
          "name": "stdout"
        }
      ]
    }
  ]
}
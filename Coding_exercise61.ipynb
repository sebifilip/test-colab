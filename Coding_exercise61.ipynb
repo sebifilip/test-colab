{
  "nbformat": 4,
  "nbformat_minor": 0,
  "metadata": {
    "colab": {
      "name": "Coding_exercise61.ipynb",
      "provenance": [],
      "collapsed_sections": [],
      "authorship_tag": "ABX9TyPryRUR7/ZSNcPmZ8yNq0Ez",
      "include_colab_link": true
    },
    "kernelspec": {
      "name": "python3",
      "display_name": "Python 3"
    },
    "language_info": {
      "name": "python"
    }
  },
  "cells": [
    {
      "cell_type": "markdown",
      "metadata": {
        "id": "view-in-github",
        "colab_type": "text"
      },
      "source": [
        "<a href=\"https://colab.research.google.com/github/sebifilip/test-colab/blob/main/Coding_exercise61.ipynb\" target=\"_parent\"><img src=\"https://colab.research.google.com/assets/colab-badge.svg\" alt=\"Open In Colab\"/></a>"
      ]
    },
    {
      "cell_type": "code",
      "metadata": {
        "id": "pGJVX8jHslnq",
        "colab": {
          "base_uri": "https://localhost:8080/"
        },
        "outputId": "bfe6129c-15b6-4e24-f4a0-fa9648156039"
      },
      "source": [
        "class Person:\n",
        "\n",
        "  def __init__(self, first_name, last_name):\n",
        "    self._first_name = first_name\n",
        "    self._last_name = last_name\n",
        "\n",
        "  def get_first_name(self):\n",
        "    return self._first_name\n",
        "\n",
        "  def get_last_name(self):\n",
        "    return self._last_name\n",
        "\n",
        "  first_name = property(fget = get_first_name)\n",
        "  last_name = property(fget = get_last_name)\n",
        "\n",
        "person = Person(\"John\", \"Dow\")\n",
        "print(person._first_name)\n",
        "print(person._last_name)"
      ],
      "execution_count": 1,
      "outputs": [
        {
          "output_type": "stream",
          "text": [
            "John\n",
            "Dow\n"
          ],
          "name": "stdout"
        }
      ]
    }
  ]
}
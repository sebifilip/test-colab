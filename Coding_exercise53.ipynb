{
  "nbformat": 4,
  "nbformat_minor": 0,
  "metadata": {
    "colab": {
      "name": "Coding_exercise53.ipynb",
      "provenance": [],
      "collapsed_sections": [],
      "authorship_tag": "ABX9TyM4Q2eSeJbboBm3bWKTXebF",
      "include_colab_link": true
    },
    "kernelspec": {
      "name": "python3",
      "display_name": "Python 3"
    },
    "language_info": {
      "name": "python"
    }
  },
  "cells": [
    {
      "cell_type": "markdown",
      "metadata": {
        "id": "view-in-github",
        "colab_type": "text"
      },
      "source": [
        "<a href=\"https://colab.research.google.com/github/sebifilip/test-colab/blob/main/Coding_exercise53.ipynb\" target=\"_parent\"><img src=\"https://colab.research.google.com/assets/colab-badge.svg\" alt=\"Open In Colab\"/></a>"
      ]
    },
    {
      "cell_type": "code",
      "metadata": {
        "colab": {
          "base_uri": "https://localhost:8080/"
        },
        "id": "mEGNCbZiXCWk",
        "outputId": "28f8850d-887d-4bc3-ea6d-fa61db1f3b92"
      },
      "source": [
        "class Laptop:\n",
        "\n",
        "    def __init__(self, brand, model, price):\n",
        "        self.brand = brand\n",
        "        self._model = model\n",
        "        self.__price = price\n",
        "\n",
        "\n",
        "laptop = Laptop('Acer', 'Predator', 5490)\n",
        "print(f'brand -> {laptop.brand}')\n",
        "print(f'model -> {laptop._model}')\n",
        "print(f'price -> {laptop._Laptop__price}')"
      ],
      "execution_count": 1,
      "outputs": [
        {
          "output_type": "stream",
          "text": [
            "brand -> Acer\n",
            "model -> Predator\n",
            "price -> 5490\n"
          ],
          "name": "stdout"
        }
      ]
    }
  ]
}
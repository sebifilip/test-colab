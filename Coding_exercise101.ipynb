{
  "nbformat": 4,
  "nbformat_minor": 0,
  "metadata": {
    "colab": {
      "name": "Coding_exercise101.ipynb",
      "provenance": [],
      "authorship_tag": "ABX9TyO9HMl4BDeNqwvxPu3Yv5qK",
      "include_colab_link": true
    },
    "kernelspec": {
      "name": "python3",
      "display_name": "Python 3"
    },
    "language_info": {
      "name": "python"
    }
  },
  "cells": [
    {
      "cell_type": "markdown",
      "metadata": {
        "id": "view-in-github",
        "colab_type": "text"
      },
      "source": [
        "<a href=\"https://colab.research.google.com/github/sebifilip/test-colab/blob/main/Coding_exercise101.ipynb\" target=\"_parent\"><img src=\"https://colab.research.google.com/assets/colab-badge.svg\" alt=\"Open In Colab\"/></a>"
      ]
    },
    {
      "cell_type": "code",
      "metadata": {
        "id": "X82z6819Y-KO",
        "colab": {
          "base_uri": "https://localhost:8080/"
        },
        "outputId": "d67d649c-cc81-4ba9-f287-ce4387cf5926"
      },
      "source": [
        "class Hashtag:\n",
        "\n",
        "    def __init__(self, string):\n",
        "        self.string = '#' + string\n",
        "\n",
        "    def __repr__(self):\n",
        "        return f\"Hashtag(string='{self.string}')\"\n",
        "\n",
        "    def __str__(self):\n",
        "        return f'{self.string}'\n",
        "\n",
        "    def __add__(self, other):\n",
        "        return Hashtag(self.string + ' ' + other.string)\n",
        " \n",
        " \n",
        "hashtag1 = Hashtag('python')\n",
        "hashtag2 = Hashtag('developer')\n",
        "hashtag3 = Hashtag('oop')\n",
        "print(hashtag1 + hashtag2 + hashtag3)"
      ],
      "execution_count": 2,
      "outputs": [
        {
          "output_type": "stream",
          "text": [
            "###python #developer #oop\n"
          ],
          "name": "stdout"
        }
      ]
    }
  ]
}
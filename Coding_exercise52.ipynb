{
  "nbformat": 4,
  "nbformat_minor": 0,
  "metadata": {
    "colab": {
      "name": "Coding_exercise52.ipynb",
      "provenance": [],
      "collapsed_sections": [],
      "authorship_tag": "ABX9TyOP4EBUZj1r1022SZtmu19K",
      "include_colab_link": true
    },
    "kernelspec": {
      "name": "python3",
      "display_name": "Python 3"
    },
    "language_info": {
      "name": "python"
    }
  },
  "cells": [
    {
      "cell_type": "markdown",
      "metadata": {
        "id": "view-in-github",
        "colab_type": "text"
      },
      "source": [
        "<a href=\"https://colab.research.google.com/github/sebifilip/test-colab/blob/main/Coding_exercise52.ipynb\" target=\"_parent\"><img src=\"https://colab.research.google.com/assets/colab-badge.svg\" alt=\"Open In Colab\"/></a>"
      ]
    },
    {
      "cell_type": "code",
      "metadata": {
        "colab": {
          "base_uri": "https://localhost:8080/"
        },
        "id": "yCtqbOiQVMcs",
        "outputId": "c9420ee0-81b6-4aef-94cd-a1cec9747997"
      },
      "source": [
        "class Laptop:\n",
        "  def __init__(self, brand, model, price):\n",
        "    self.brand = brand\n",
        "    self._model = model\n",
        "    self.__price = price\n",
        "\n",
        "\n",
        "laptop = Laptop(\"Acer\", \"Predator\", 5490)\n",
        "print(laptop.__dict__)"
      ],
      "execution_count": 4,
      "outputs": [
        {
          "output_type": "stream",
          "text": [
            "{'brand': 'Acer', '_model': 'Predator', '_Laptop__price': 5490}\n"
          ],
          "name": "stdout"
        }
      ]
    }
  ]
}
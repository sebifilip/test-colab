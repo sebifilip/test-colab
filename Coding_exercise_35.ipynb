{
  "nbformat": 4,
  "nbformat_minor": 0,
  "metadata": {
    "colab": {
      "name": "Coding_exercise.35.ipynb",
      "provenance": [],
      "collapsed_sections": [],
      "authorship_tag": "ABX9TyMpeFKBgtbbL4ivp8Hb+XJU",
      "include_colab_link": true
    },
    "kernelspec": {
      "name": "python3",
      "display_name": "Python 3"
    },
    "language_info": {
      "name": "python"
    }
  },
  "cells": [
    {
      "cell_type": "markdown",
      "metadata": {
        "id": "view-in-github",
        "colab_type": "text"
      },
      "source": [
        "<a href=\"https://colab.research.google.com/github/sebifilip/test-colab/blob/main/Coding_exercise_35.ipynb\" target=\"_parent\"><img src=\"https://colab.research.google.com/assets/colab-badge.svg\" alt=\"Open In Colab\"/></a>"
      ]
    },
    {
      "cell_type": "code",
      "metadata": {
        "id": "JQ_ci338c35Q",
        "colab": {
          "base_uri": "https://localhost:8080/"
        },
        "outputId": "cd386628-fb85-4cbc-89ed-60ffc61ce6db"
      },
      "source": [
        "class HouseProject:\n",
        "    number_of_floors = 3\n",
        "    area = 100\n",
        "\n",
        "    def describe_object():\n",
        "        print(f\"Floor number: {HouseProject.number_of_floors}\\nArea: {HouseProject.area}\")\n",
        "\n",
        "\n",
        "HouseProject.describe_object()"
      ],
      "execution_count": 7,
      "outputs": [
        {
          "output_type": "stream",
          "text": [
            "Floor number: 3\n",
            "Area: 100\n"
          ],
          "name": "stdout"
        }
      ]
    }
  ]
}
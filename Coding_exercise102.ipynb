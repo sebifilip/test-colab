{
  "nbformat": 4,
  "nbformat_minor": 0,
  "metadata": {
    "colab": {
      "name": "Coding_exercise102.ipynb",
      "provenance": [],
      "collapsed_sections": [],
      "authorship_tag": "ABX9TyOwqLZoFYNaNSsQVFvSRhp9",
      "include_colab_link": true
    },
    "kernelspec": {
      "name": "python3",
      "display_name": "Python 3"
    },
    "language_info": {
      "name": "python"
    }
  },
  "cells": [
    {
      "cell_type": "markdown",
      "metadata": {
        "id": "view-in-github",
        "colab_type": "text"
      },
      "source": [
        "<a href=\"https://colab.research.google.com/github/sebifilip/test-colab/blob/main/Coding_exercise102.ipynb\" target=\"_parent\"><img src=\"https://colab.research.google.com/assets/colab-badge.svg\" alt=\"Open In Colab\"/></a>"
      ]
    },
    {
      "cell_type": "code",
      "metadata": {
        "colab": {
          "base_uri": "https://localhost:8080/"
        },
        "id": "mxJNwhIAcUDa",
        "outputId": "243a07d5-2edc-4f36-e840-76adfc2d9ec1"
      },
      "source": [
        "class Doc:\n",
        "\n",
        "    def __init__(self, string):\n",
        "        self.string = string\n",
        "\n",
        "    def __repr__(self):\n",
        "        return f\"Doc(string='{self.string}')\"\n",
        "\n",
        "    def __str__(self):\n",
        "        return f'{self.string}'\n",
        "\n",
        "    def __add__(self, other):\n",
        "        return Doc(self.string + ' ' + other.string)\n",
        "\n",
        "    def __eq__(self, other):\n",
        "        return self.string == other.string  \n",
        " \n",
        " \n",
        "doc1 = Doc('Python')\n",
        "doc2 = Doc('3.8')\n",
        "print(doc1 == doc2)"
      ],
      "execution_count": 1,
      "outputs": [
        {
          "output_type": "stream",
          "text": [
            "False\n"
          ],
          "name": "stdout"
        }
      ]
    }
  ]
}
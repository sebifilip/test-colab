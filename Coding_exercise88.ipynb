{
  "nbformat": 4,
  "nbformat_minor": 0,
  "metadata": {
    "colab": {
      "name": "Coding_exercise88.ipynb",
      "provenance": [],
      "collapsed_sections": [],
      "authorship_tag": "ABX9TyMEaGYotwwKw3P+qqrKkg7b",
      "include_colab_link": true
    },
    "kernelspec": {
      "name": "python3",
      "display_name": "Python 3"
    },
    "language_info": {
      "name": "python"
    }
  },
  "cells": [
    {
      "cell_type": "markdown",
      "metadata": {
        "id": "view-in-github",
        "colab_type": "text"
      },
      "source": [
        "<a href=\"https://colab.research.google.com/github/sebifilip/test-colab/blob/main/Coding_exercise88.ipynb\" target=\"_parent\"><img src=\"https://colab.research.google.com/assets/colab-badge.svg\" alt=\"Open In Colab\"/></a>"
      ]
    },
    {
      "cell_type": "code",
      "metadata": {
        "colab": {
          "base_uri": "https://localhost:8080/"
        },
        "id": "ryid01kOicBD",
        "outputId": "3a343073-daaa-4157-95df-800c5be24f4c"
      },
      "source": [
        "class Person:\n",
        "\n",
        "    def __init__(self, fname, lname):\n",
        "        self.fname = fname\n",
        "        self.lname = lname\n",
        "\n",
        "    def __repr__(self):\n",
        "        return f\"Person(fname='{self.fname}', lname='{self.lname}')\"\n",
        "\n",
        "    def __str__(self):\n",
        "        return f\"First name: '{self.fname}'\\nLast name: '{self.lname}'\"\n",
        "\n",
        "\n",
        "person = Person(\"John\", \"Doe\")\n",
        "print(person)"
      ],
      "execution_count": 4,
      "outputs": [
        {
          "output_type": "stream",
          "text": [
            "First name: 'John'\n",
            "Last name: 'Doe'\n"
          ],
          "name": "stdout"
        }
      ]
    }
  ]
}
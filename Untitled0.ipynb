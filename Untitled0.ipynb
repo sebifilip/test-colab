{
  "nbformat": 4,
  "nbformat_minor": 0,
  "metadata": {
    "colab": {
      "name": "Untitled0.ipynb",
      "provenance": [],
      "collapsed_sections": [],
      "authorship_tag": "ABX9TyPLJQ2hCj2lUGbhbg6H+5M6",
      "include_colab_link": true
    },
    "kernelspec": {
      "name": "python3",
      "display_name": "Python 3"
    },
    "language_info": {
      "name": "python"
    }
  },
  "cells": [
    {
      "cell_type": "markdown",
      "metadata": {
        "id": "view-in-github",
        "colab_type": "text"
      },
      "source": [
        "<a href=\"https://colab.research.google.com/github/sebifilip/test-colab/blob/main/Untitled0.ipynb\" target=\"_parent\"><img src=\"https://colab.research.google.com/assets/colab-badge.svg\" alt=\"Open In Colab\"/></a>"
      ]
    },
    {
      "cell_type": "code",
      "metadata": {
        "colab": {
          "base_uri": "https://localhost:8080/"
        },
        "id": "iPkUKdE6K7pK",
        "outputId": "4ccf3e5a-4b5c-409f-9cb0-80468fb3135c"
      },
      "source": [
        "from abc import ABC, abstractmethod\n",
        "\n",
        "\n",
        "class TaxPayer(ABC):\n",
        "\n",
        "    def __init__(self, salary):\n",
        "        self.salary = salary\n",
        "\n",
        "    @abstractmethod\n",
        "    def calculate_tax(self):\n",
        "        pass\n",
        "\n",
        "\n",
        "class StudentTaxPayer(TaxPayer):\n",
        "\n",
        "    def calculate_tax(self):\n",
        "        return self.salary * 0.15\n",
        "\n",
        "    \n",
        "class DisabledTaxPayer(TaxPayer):\n",
        "\n",
        "    def calculate_tax(self):\n",
        "        return self.salary * 0.12\n",
        "\n",
        "\n",
        "class WorkerTaxPayer(TaxPayer):\n",
        "\n",
        "    def calculate_tax(self):\n",
        "        if self.salary < 80000:\n",
        "            return self.salary * 0.17\n",
        "        else:\n",
        "            return 80000 * 0.17 + (self.salary - 80000) * 0.32\n",
        "\n",
        "\n",
        "tax_payers = [StudentTaxPayer(50000), DisabledTaxPayer(70000),\n",
        "              WorkerTaxPayer(68000), WorkerTaxPayer(120000)]\n",
        "for tax_payer in tax_payers:\n",
        "    print(tax_payer.calculate_tax())"
      ],
      "execution_count": 1,
      "outputs": [
        {
          "output_type": "stream",
          "text": [
            "7500.0\n",
            "8400.0\n",
            "11560.0\n",
            "26400.0\n"
          ],
          "name": "stdout"
        }
      ]
    }
  ]
}
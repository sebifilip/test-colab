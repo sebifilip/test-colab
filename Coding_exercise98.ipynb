{
  "nbformat": 4,
  "nbformat_minor": 0,
  "metadata": {
    "colab": {
      "name": "Coding_exercise98.ipynb",
      "provenance": [],
      "collapsed_sections": [],
      "authorship_tag": "ABX9TyPz7V5Y+YV+g94JqZWvyNFN",
      "include_colab_link": true
    },
    "kernelspec": {
      "name": "python3",
      "display_name": "Python 3"
    },
    "language_info": {
      "name": "python"
    }
  },
  "cells": [
    {
      "cell_type": "markdown",
      "metadata": {
        "id": "view-in-github",
        "colab_type": "text"
      },
      "source": [
        "<a href=\"https://colab.research.google.com/github/sebifilip/test-colab/blob/main/Coding_exercise98.ipynb\" target=\"_parent\"><img src=\"https://colab.research.google.com/assets/colab-badge.svg\" alt=\"Open In Colab\"/></a>"
      ]
    },
    {
      "cell_type": "code",
      "metadata": {
        "colab": {
          "base_uri": "https://localhost:8080/"
        },
        "id": "8-aEQob_Quwe",
        "outputId": "d5df888b-2c1d-4e59-e12b-1dbc093d054d"
      },
      "source": [
        "class Vector:\n",
        "\n",
        "    def __init__(self, *components):\n",
        "        self.components = components\n",
        "\n",
        "    def __repr__(self):\n",
        "        return f'Vector{self.components}'\n",
        "\n",
        "    def __str__(self):\n",
        "        return f'{self.components}'\n",
        "\n",
        "    def __len__(self):\n",
        "        return len(self.components)\n",
        "\n",
        "    def __add__(self, other):\n",
        "        components = tuple(x + y for x, y in zip(self.components, other.components))\n",
        "        return Vector(*components)     \n",
        "\n",
        "    def __sub__(self, other):\n",
        "        components = tuple(x - y for x, y in zip(self.components, other.components))\n",
        "        return Vector(*components) \n",
        "\n",
        "    def __mul__(self, other):\n",
        "        components = tuple(x * y for x, y in zip(self.components, other.components))\n",
        "        return Vector(*components)\n",
        "\n",
        "    def __truediv__(self, other):\n",
        "        components = tuple(x / y for x, y in zip(self.components, other.components))\n",
        "        return Vector(*components)\n",
        "\n",
        "\n",
        "v1 = Vector(4, 2)\n",
        "v2 = Vector(-1, 4)\n",
        "print(v1 / v2)"
      ],
      "execution_count": 3,
      "outputs": [
        {
          "output_type": "stream",
          "text": [
            "(-4.0, 0.5)\n"
          ],
          "name": "stdout"
        }
      ]
    }
  ]
}
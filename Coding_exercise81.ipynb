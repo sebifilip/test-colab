{
  "nbformat": 4,
  "nbformat_minor": 0,
  "metadata": {
    "colab": {
      "name": "Coding_exercise81.ipynb",
      "provenance": [],
      "authorship_tag": "ABX9TyPUNPXb2SjdkXCHp0PHbBbx",
      "include_colab_link": true
    },
    "kernelspec": {
      "name": "python3",
      "display_name": "Python 3"
    },
    "language_info": {
      "name": "python"
    }
  },
  "cells": [
    {
      "cell_type": "markdown",
      "metadata": {
        "id": "view-in-github",
        "colab_type": "text"
      },
      "source": [
        "<a href=\"https://colab.research.google.com/github/sebifilip/test-colab/blob/main/Coding_exercise81.ipynb\" target=\"_parent\"><img src=\"https://colab.research.google.com/assets/colab-badge.svg\" alt=\"Open In Colab\"/></a>"
      ]
    },
    {
      "cell_type": "code",
      "metadata": {
        "colab": {
          "base_uri": "https://localhost:8080/"
        },
        "id": "mCwKScHHwQzg",
        "outputId": "e0252231-8c0c-402c-f88d-172d7eb718bc"
      },
      "source": [
        "class Person:\n",
        " \n",
        "    instances = []\n",
        " \n",
        "    def __init__(self):\n",
        "        Person.instances.append(self)\n",
        "    \n",
        "    @classmethod\n",
        "    def count_instances(cls):\n",
        "        return len(Person.instances)\n",
        " \n",
        " \n",
        "person1 = Person()\n",
        "person2 = Person()\n",
        "person3 = Person()\n",
        "print(Person.count_instances())\n"
      ],
      "execution_count": 1,
      "outputs": [
        {
          "output_type": "stream",
          "text": [
            "3\n"
          ],
          "name": "stdout"
        }
      ]
    }
  ]
}
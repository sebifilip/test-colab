{
  "nbformat": 4,
  "nbformat_minor": 0,
  "metadata": {
    "colab": {
      "name": "Coding_exercise28.ipynb",
      "provenance": [],
      "collapsed_sections": [],
      "authorship_tag": "ABX9TyMEdDRHGoP4QgdHMCTbTc4I",
      "include_colab_link": true
    },
    "kernelspec": {
      "name": "python3",
      "display_name": "Python 3"
    },
    "language_info": {
      "name": "python"
    }
  },
  "cells": [
    {
      "cell_type": "markdown",
      "metadata": {
        "id": "view-in-github",
        "colab_type": "text"
      },
      "source": [
        "<a href=\"https://colab.research.google.com/github/sebifilip/test-colab/blob/main/Coding_exercise28.ipynb\" target=\"_parent\"><img src=\"https://colab.research.google.com/assets/colab-badge.svg\" alt=\"Open In Colab\"/></a>"
      ]
    },
    {
      "cell_type": "code",
      "metadata": {
        "colab": {
          "base_uri": "https://localhost:8080/"
        },
        "id": "1liqMQEyxPTK",
        "outputId": "f9bfabb7-af3f-4e7e-fb29-2de8550aaa1b"
      },
      "source": [
        "class Laptop:\n",
        "    brand = 'Lenovo'\n",
        "    model = 'ThinkPad'\n",
        "\n",
        "\n",
        "setattr(Laptop, 'brand', 'Acer')\n",
        "setattr(Laptop, 'model', 'Predator')\n",
        "\n",
        "print(f\"brand: {getattr(Laptop, 'brand')}\")\n",
        "print(f\"model: {getattr(Laptop, 'model')}\")"
      ],
      "execution_count": 3,
      "outputs": [
        {
          "output_type": "stream",
          "text": [
            "brand: Acer\n",
            "model: Predator\n"
          ],
          "name": "stdout"
        }
      ]
    }
  ]
}
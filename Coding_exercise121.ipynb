{
  "nbformat": 4,
  "nbformat_minor": 0,
  "metadata": {
    "colab": {
      "name": "Coding_exercise121.ipynb",
      "provenance": [],
      "authorship_tag": "ABX9TyOd6i2HLIuKhSIwzNjDc3vs",
      "include_colab_link": true
    },
    "kernelspec": {
      "name": "python3",
      "display_name": "Python 3"
    },
    "language_info": {
      "name": "python"
    }
  },
  "cells": [
    {
      "cell_type": "markdown",
      "metadata": {
        "id": "view-in-github",
        "colab_type": "text"
      },
      "source": [
        "<a href=\"https://colab.research.google.com/github/sebifilip/test-colab/blob/main/Coding_exercise121.ipynb\" target=\"_parent\"><img src=\"https://colab.research.google.com/assets/colab-badge.svg\" alt=\"Open In Colab\"/></a>"
      ]
    },
    {
      "cell_type": "code",
      "metadata": {
        "colab": {
          "base_uri": "https://localhost:8080/"
        },
        "id": "IP4UegwPousg",
        "outputId": "a06fcb9a-3d77-42df-8f60-8510c4d1dc11"
      },
      "source": [
        "class Person:\n",
        "    \n",
        "    def __init__(self, first_name, last_name, age):\n",
        "        self.first_name = first_name\n",
        "        self.last_name = last_name\n",
        "        self.age = age\n",
        "\n",
        "\n",
        "class Department:\n",
        "    \n",
        "    def __init__(self, dept_name, short_dept_name):\n",
        "        self.dept_name = dept_name\n",
        "        self.short_dept_name = short_dept_name\n",
        "\n",
        "\n",
        "class Worker(Person, Department):\n",
        "    \n",
        "    def __init__(self, first_name, last_name, age, dept_name, short_dept_name):\n",
        "        Person.__init__(self, first_name, last_name, age)\n",
        "        Department.__init__(self, dept_name, short_dept_name)\n",
        " \n",
        " \n",
        "worker = Worker('John', 'Doe', 30, 'Information Technology', 'IT')\n",
        "print(worker.__dict__)"
      ],
      "execution_count": 1,
      "outputs": [
        {
          "output_type": "stream",
          "text": [
            "{'first_name': 'John', 'last_name': 'Doe', 'age': 30, 'dept_name': 'Information Technology', 'short_dept_name': 'IT'}\n"
          ],
          "name": "stdout"
        }
      ]
    }
  ]
}
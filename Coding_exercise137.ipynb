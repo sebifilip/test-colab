{
  "nbformat": 4,
  "nbformat_minor": 0,
  "metadata": {
    "colab": {
      "name": "Coding_exercise137.ipynb",
      "provenance": [],
      "collapsed_sections": [],
      "authorship_tag": "ABX9TyO8UoIJbFt2CoGPREPaYuIQ",
      "include_colab_link": true
    },
    "kernelspec": {
      "name": "python3",
      "display_name": "Python 3"
    },
    "language_info": {
      "name": "python"
    }
  },
  "cells": [
    {
      "cell_type": "markdown",
      "metadata": {
        "id": "view-in-github",
        "colab_type": "text"
      },
      "source": [
        "<a href=\"https://colab.research.google.com/github/sebifilip/test-colab/blob/main/Coding_exercise137.ipynb\" target=\"_parent\"><img src=\"https://colab.research.google.com/assets/colab-badge.svg\" alt=\"Open In Colab\"/></a>"
      ]
    },
    {
      "cell_type": "code",
      "metadata": {
        "colab": {
          "base_uri": "https://localhost:8080/"
        },
        "id": "kMPTyKFvdRIr",
        "outputId": "054708c6-5f0b-47b7-bcfa-c0885d8dfb18"
      },
      "source": [
        "import datetime\n",
        "\n",
        "\n",
        "class Note:\n",
        "\n",
        "    def __init__(self, content):\n",
        "        self.content = content\n",
        "        self.creation_time = datetime.datetime.now().strftime('%m-%d-%Y %H:%M:%S')\n",
        "        \n",
        "    def __repr__(self):\n",
        "        return f\"Note(content='{self.content}')\"        \n",
        "\n",
        "    def find(self, word):\n",
        "        return word.lower() in self.content.lower()\n",
        "\n",
        "    \n",
        "class Notebook:\n",
        "\n",
        "    def __init__(self):\n",
        "        self.notes = []\n",
        "\n",
        "    def new_note(self, content):\n",
        "        self.notes.append(Note(content))\n",
        "\n",
        "    def display_notes(self):\n",
        "        for note in self.notes:\n",
        "            print(note.content)\n",
        " \n",
        " \n",
        "notebook = Notebook()\n",
        "notebook.new_note('My first note.')\n",
        "notebook.new_note('My second note.')\n",
        "notebook.display_notes()"
      ],
      "execution_count": 1,
      "outputs": [
        {
          "output_type": "stream",
          "text": [
            "My first note.\n",
            "My second note.\n"
          ],
          "name": "stdout"
        }
      ]
    }
  ]
}
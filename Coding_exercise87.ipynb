{
  "nbformat": 4,
  "nbformat_minor": 0,
  "metadata": {
    "colab": {
      "name": "Coding_exercise87.ipynb",
      "provenance": [],
      "collapsed_sections": [],
      "authorship_tag": "ABX9TyP2FYLq6oeTtz9ZpKBR5wHA",
      "include_colab_link": true
    },
    "kernelspec": {
      "name": "python3",
      "display_name": "Python 3"
    },
    "language_info": {
      "name": "python"
    }
  },
  "cells": [
    {
      "cell_type": "markdown",
      "metadata": {
        "id": "view-in-github",
        "colab_type": "text"
      },
      "source": [
        "<a href=\"https://colab.research.google.com/github/sebifilip/test-colab/blob/main/Coding_exercise87.ipynb\" target=\"_parent\"><img src=\"https://colab.research.google.com/assets/colab-badge.svg\" alt=\"Open In Colab\"/></a>"
      ]
    },
    {
      "cell_type": "code",
      "metadata": {
        "colab": {
          "base_uri": "https://localhost:8080/"
        },
        "id": "fgfpOdZ8fePz",
        "outputId": "063187f5-cde1-4421-ffaa-f107fecba088"
      },
      "source": [
        "class Person:\n",
        "    \n",
        "    def __init__(self, fname, lname):\n",
        "        self.fname = fname\n",
        "        self.lname = lname\n",
        "\n",
        "    def __repr__(self):\n",
        "         return f\"Person(fname='{self.fname}', lname='{self.lname}')\"\n",
        "\n",
        "\n",
        "person = Person('Mike', 'Smith')\n",
        "\n",
        "print(person)"
      ],
      "execution_count": 1,
      "outputs": [
        {
          "output_type": "stream",
          "text": [
            "Person(fname='Mike', lname='Smith')\n"
          ],
          "name": "stdout"
        }
      ]
    }
  ]
}
{
  "nbformat": 4,
  "nbformat_minor": 0,
  "metadata": {
    "colab": {
      "name": "Coding_exercise72.ipynb",
      "provenance": [],
      "collapsed_sections": [],
      "authorship_tag": "ABX9TyMkRJ/ziuGzyYR0FDwz7lAS",
      "include_colab_link": true
    },
    "kernelspec": {
      "name": "python3",
      "display_name": "Python 3"
    },
    "language_info": {
      "name": "python"
    }
  },
  "cells": [
    {
      "cell_type": "markdown",
      "metadata": {
        "id": "view-in-github",
        "colab_type": "text"
      },
      "source": [
        "<a href=\"https://colab.research.google.com/github/sebifilip/test-colab/blob/main/Coding_exercise72.ipynb\" target=\"_parent\"><img src=\"https://colab.research.google.com/assets/colab-badge.svg\" alt=\"Open In Colab\"/></a>"
      ]
    },
    {
      "cell_type": "code",
      "metadata": {
        "colab": {
          "base_uri": "https://localhost:8080/"
        },
        "id": "_0WW75rS6Ya2",
        "outputId": "c0f5191e-0ad8-4028-fa73-9131bb36b9e4"
      },
      "source": [
        "class TechStack:\n",
        "\n",
        "  def __init__(self, tech_names):\n",
        "    self._tech_names = tech_names\n",
        "\n",
        "  @property\n",
        "  def tech_names(self):\n",
        "    return self._tech_names\n",
        "\n",
        "  @tech_names.setter\n",
        "  def tech_names(self, value):\n",
        "    self._tech_names = value\n",
        " \n",
        "  @tech_names.deleter\n",
        "  def tech_names(self):\n",
        "    del self._tech_names\n",
        " \n",
        "        \n",
        "tech_stack = TechStack('python,java,sql')\n",
        "print(tech_stack.tech_names)\n",
        " \n",
        "tech_stack.tech_names = 'python,sql'\n",
        "print(tech_stack.tech_names)\n",
        " \n",
        "del tech_stack.tech_names\n",
        "print(tech_stack.__dict__)\n"
      ],
      "execution_count": 2,
      "outputs": [
        {
          "output_type": "stream",
          "text": [
            "python,java,sql\n",
            "python,sql\n",
            "{}\n"
          ],
          "name": "stdout"
        }
      ]
    }
  ]
}
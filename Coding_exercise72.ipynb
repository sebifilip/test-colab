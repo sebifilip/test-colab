{
  "nbformat": 4,
  "nbformat_minor": 0,
  "metadata": {
    "colab": {
      "name": "Coding_exercise72.ipynb",
      "provenance": [],
      "collapsed_sections": [],
      "authorship_tag": "ABX9TyPF36XFz/tl6+Pn8MqRjxlW",
      "include_colab_link": true
    },
    "kernelspec": {
      "name": "python3",
      "display_name": "Python 3"
    },
    "language_info": {
      "name": "python"
    }
  },
  "cells": [
    {
      "cell_type": "markdown",
      "metadata": {
        "id": "view-in-github",
        "colab_type": "text"
      },
      "source": [
        "<a href=\"https://colab.research.google.com/github/sebifilip/test-colab/blob/main/Coding_exercise72.ipynb\" target=\"_parent\"><img src=\"https://colab.research.google.com/assets/colab-badge.svg\" alt=\"Open In Colab\"/></a>"
      ]
    },
    {
      "cell_type": "code",
      "metadata": {
        "colab": {
          "base_uri": "https://localhost:8080/"
        },
        "id": "mzgBU_cs7XjV",
        "outputId": "0e633f93-b649-46ca-9979-6e5d455406be"
      },
      "source": [
        "class Game:\n",
        "\n",
        "  def __init__(self, level=0):\n",
        "    self._level = level\n",
        "\n",
        "  @property\n",
        "  def level(self):\n",
        "      return self._level\n",
        " \n",
        "  @level.setter\n",
        "  def level(self, value):\n",
        "    if not isinstance(value, int):\n",
        "      raise TypeError('The value of level must be of type int.')\n",
        "    if value < 0:\n",
        "      self._level = 0\n",
        "    elif value > 100:\n",
        "      self._level = 100\n",
        "    else:\n",
        "      self._level = value\n",
        " \n",
        " \n",
        "games = [Game(), Game(10), Game(-10), Game(120)]\n",
        "for game in games:\n",
        "  print(game.level)"
      ],
      "execution_count": 1,
      "outputs": [
        {
          "output_type": "stream",
          "text": [
            "0\n",
            "10\n",
            "-10\n",
            "120\n"
          ],
          "name": "stdout"
        }
      ]
    }
  ]
}
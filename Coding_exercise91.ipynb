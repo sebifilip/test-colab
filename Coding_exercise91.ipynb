{
  "nbformat": 4,
  "nbformat_minor": 0,
  "metadata": {
    "colab": {
      "name": "Coding_exercise91.ipynb",
      "provenance": [],
      "collapsed_sections": [],
      "authorship_tag": "ABX9TyPWiXDq1qC6phsn+Pe//FQp",
      "include_colab_link": true
    },
    "kernelspec": {
      "name": "python3",
      "display_name": "Python 3"
    },
    "language_info": {
      "name": "python"
    }
  },
  "cells": [
    {
      "cell_type": "markdown",
      "metadata": {
        "id": "view-in-github",
        "colab_type": "text"
      },
      "source": [
        "<a href=\"https://colab.research.google.com/github/sebifilip/test-colab/blob/main/Coding_exercise91.ipynb\" target=\"_parent\"><img src=\"https://colab.research.google.com/assets/colab-badge.svg\" alt=\"Open In Colab\"/></a>"
      ]
    },
    {
      "cell_type": "code",
      "metadata": {
        "colab": {
          "base_uri": "https://localhost:8080/"
        },
        "id": "fjp9J_R9s19g",
        "outputId": "8f401275-aec7-4bef-aebf-7e9bd738417b"
      },
      "source": [
        "class Vector:\n",
        "\n",
        "    def __init__(self, *components):\n",
        "        self.components = components\n",
        "\n",
        "    def __repr__(self):\n",
        "        return f'Vector{self.components}'\n",
        "\n",
        "    def __str__(self):\n",
        "        return f'{self.components}'\n",
        "\n",
        "    def __len__(self):\n",
        "      return len(self.components)\n",
        "\n",
        "  \n",
        "v1 = Vector(-3, 4, 2)\n",
        "print(len(v1))"
      ],
      "execution_count": 2,
      "outputs": [
        {
          "output_type": "stream",
          "text": [
            "3\n"
          ],
          "name": "stdout"
        }
      ]
    }
  ]
}
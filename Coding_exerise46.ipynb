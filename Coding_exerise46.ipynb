{
  "nbformat": 4,
  "nbformat_minor": 0,
  "metadata": {
    "colab": {
      "name": "Coding_exerise46.ipynb",
      "provenance": [],
      "collapsed_sections": [],
      "authorship_tag": "ABX9TyNs0I6fvSjAG8gBj1nzwycZ",
      "include_colab_link": true
    },
    "kernelspec": {
      "name": "python3",
      "display_name": "Python 3"
    },
    "language_info": {
      "name": "python"
    }
  },
  "cells": [
    {
      "cell_type": "markdown",
      "metadata": {
        "id": "view-in-github",
        "colab_type": "text"
      },
      "source": [
        "<a href=\"https://colab.research.google.com/github/sebifilip/test-colab/blob/main/Coding_exerise46.ipynb\" target=\"_parent\"><img src=\"https://colab.research.google.com/assets/colab-badge.svg\" alt=\"Open In Colab\"/></a>"
      ]
    },
    {
      "cell_type": "code",
      "metadata": {
        "colab": {
          "base_uri": "https://localhost:8080/"
        },
        "id": "8-2nJfsi-6Wz",
        "outputId": "bc4a0a8f-5f90-4200-b099-e9cd212d0459"
      },
      "source": [
        "class Vector:\n",
        "  def __init__(self, *components):\n",
        "    self.components = components\n",
        "\n",
        "v1 = Vector(1, 2)\n",
        "v2 = Vector(4, 5, 2)\n",
        "\n",
        "print(f\"v1 -> {v1.components}\")\n",
        "print(f\"v2 -> {v2.components}\")"
      ],
      "execution_count": 3,
      "outputs": [
        {
          "output_type": "stream",
          "text": [
            "v1 -> (1, 2)\n",
            "v2 -> (4, 5, 2)\n"
          ],
          "name": "stdout"
        }
      ]
    }
  ]
}
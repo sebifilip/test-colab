{
  "nbformat": 4,
  "nbformat_minor": 0,
  "metadata": {
    "colab": {
      "name": "Coding_exercise116.ipynb",
      "provenance": [],
      "authorship_tag": "ABX9TyMfiMOUcQKvQ+oaanfVXRvn",
      "include_colab_link": true
    },
    "kernelspec": {
      "name": "python3",
      "display_name": "Python 3"
    },
    "language_info": {
      "name": "python"
    }
  },
  "cells": [
    {
      "cell_type": "markdown",
      "metadata": {
        "id": "view-in-github",
        "colab_type": "text"
      },
      "source": [
        "<a href=\"https://colab.research.google.com/github/sebifilip/test-colab/blob/main/Coding_exercise116.ipynb\" target=\"_parent\"><img src=\"https://colab.research.google.com/assets/colab-badge.svg\" alt=\"Open In Colab\"/></a>"
      ]
    },
    {
      "cell_type": "code",
      "metadata": {
        "colab": {
          "base_uri": "https://localhost:8080/"
        },
        "id": "mcPGQTYJgkvh",
        "outputId": "a6e09007-8a19-44df-c3c8-71e310232203"
      },
      "source": [
        "class Container:\n",
        "    pass\n",
        "\n",
        "\n",
        "class TemperatureControlledContainer(Container):\n",
        "    pass\n",
        "\n",
        "\n",
        "class RefrigeratedContainer(TemperatureControlledContainer):\n",
        "    pass\n",
        "\n",
        "\n",
        "print(issubclass(TemperatureControlledContainer, Container))\n",
        "print(issubclass(RefrigeratedContainer, TemperatureControlledContainer))\n",
        "print(issubclass(RefrigeratedContainer, Container))"
      ],
      "execution_count": 1,
      "outputs": [
        {
          "output_type": "stream",
          "text": [
            "True\n",
            "True\n",
            "True\n"
          ],
          "name": "stdout"
        }
      ]
    }
  ]
}
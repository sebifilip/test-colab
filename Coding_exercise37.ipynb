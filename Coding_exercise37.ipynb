{
  "nbformat": 4,
  "nbformat_minor": 0,
  "metadata": {
    "colab": {
      "name": "Coding_exercise37.ipynb",
      "provenance": [],
      "collapsed_sections": [],
      "authorship_tag": "ABX9TyPECrudKwB2svynH0Pfv5Oi",
      "include_colab_link": true
    },
    "kernelspec": {
      "name": "python3",
      "display_name": "Python 3"
    },
    "language_info": {
      "name": "python"
    }
  },
  "cells": [
    {
      "cell_type": "markdown",
      "metadata": {
        "id": "view-in-github",
        "colab_type": "text"
      },
      "source": [
        "<a href=\"https://colab.research.google.com/github/sebifilip/test-colab/blob/main/Coding_exercise37.ipynb\" target=\"_parent\"><img src=\"https://colab.research.google.com/assets/colab-badge.svg\" alt=\"Open In Colab\"/></a>"
      ]
    },
    {
      "cell_type": "code",
      "metadata": {
        "colab": {
          "base_uri": "https://localhost:8080/"
        },
        "id": "_h6RNWm0IOjs",
        "outputId": "76156e5c-1a2a-44b1-c36a-42f80c21c3ba"
      },
      "source": [
        "class Book:\n",
        "    language = 'ENG'\n",
        "    is_ebook = True\n",
        "\n",
        "book_1 = Book()\n",
        "book_2 = Book()\n",
        "\n",
        "book_1.author = 'Dan Brown'\n",
        "book_1.title = 'Inferno'\n",
        "book_2.author = 'Dan Brown'\n",
        "book_2.title = 'The Da Vinci Code'\n",
        "book_2.year_of_publishment = 2003\n",
        "\n",
        "print(book_1.__dict__)\n",
        "print(book_2.__dict__)"
      ],
      "execution_count": 1,
      "outputs": [
        {
          "output_type": "stream",
          "text": [
            "{'author': 'Dan Brown', 'title': 'Inferno'}\n",
            "{'author': 'Dan Brown', 'title': 'The Da Vinci Code', 'year_of_publishment': 2003}\n"
          ],
          "name": "stdout"
        }
      ]
    }
  ]
}
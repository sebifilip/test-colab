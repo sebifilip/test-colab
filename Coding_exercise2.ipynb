{
  "nbformat": 4,
  "nbformat_minor": 0,
  "metadata": {
    "colab": {
      "name": "Coding_exercise2.ipynb",
      "provenance": [],
      "collapsed_sections": [],
      "authorship_tag": "ABX9TyPg+Cc31vC67wWkR0IbwsR2",
      "include_colab_link": true
    },
    "kernelspec": {
      "name": "python3",
      "display_name": "Python 3"
    },
    "language_info": {
      "name": "python"
    }
  },
  "cells": [
    {
      "cell_type": "markdown",
      "metadata": {
        "id": "view-in-github",
        "colab_type": "text"
      },
      "source": [
        "<a href=\"https://colab.research.google.com/github/sebifilip/test-colab/blob/main/Coding_exercise2.ipynb\" target=\"_parent\"><img src=\"https://colab.research.google.com/assets/colab-badge.svg\" alt=\"Open In Colab\"/></a>"
      ]
    },
    {
      "cell_type": "code",
      "metadata": {
        "id": "pl7OC5nOYafO",
        "colab": {
          "base_uri": "https://localhost:8080/"
        },
        "outputId": "f409ca12-1561-4695-cf1c-f4315799e8a3"
      },
      "source": [
        "import datetime\n",
        "\n",
        "for x in sorted(datetime.__dict__):\n",
        "  print(x)"
      ],
      "execution_count": 4,
      "outputs": [
        {
          "output_type": "stream",
          "text": [
            "MAXYEAR\n",
            "MINYEAR\n",
            "__builtins__\n",
            "__cached__\n",
            "__doc__\n",
            "__file__\n",
            "__loader__\n",
            "__name__\n",
            "__package__\n",
            "__spec__\n",
            "date\n",
            "datetime\n",
            "datetime_CAPI\n",
            "sys\n",
            "time\n",
            "timedelta\n",
            "timezone\n",
            "tzinfo\n"
          ],
          "name": "stdout"
        }
      ]
    }
  ]
}
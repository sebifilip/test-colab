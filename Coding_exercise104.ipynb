{
  "nbformat": 4,
  "nbformat_minor": 0,
  "metadata": {
    "colab": {
      "name": "Coding_exercise104.ipynb",
      "provenance": [],
      "collapsed_sections": [],
      "authorship_tag": "ABX9TyOgeyYQmgNPK7o8+bXuSobZ",
      "include_colab_link": true
    },
    "kernelspec": {
      "name": "python3",
      "display_name": "Python 3"
    },
    "language_info": {
      "name": "python"
    }
  },
  "cells": [
    {
      "cell_type": "markdown",
      "metadata": {
        "id": "view-in-github",
        "colab_type": "text"
      },
      "source": [
        "<a href=\"https://colab.research.google.com/github/sebifilip/test-colab/blob/main/Coding_exercise104.ipynb\" target=\"_parent\"><img src=\"https://colab.research.google.com/assets/colab-badge.svg\" alt=\"Open In Colab\"/></a>"
      ]
    },
    {
      "cell_type": "code",
      "metadata": {
        "colab": {
          "base_uri": "https://localhost:8080/"
        },
        "id": "I978BLqvgsQZ",
        "outputId": "14b66477-8cb7-4a99-be25-518e04c8541d"
      },
      "source": [
        "class Doc:\n",
        "\n",
        "    def __init__(self, string):\n",
        "        self.string = string\n",
        "\n",
        "    def __repr__(self):\n",
        "        return f\"Doc(string='{self.string}')\"\n",
        "\n",
        "    def __str__(self):\n",
        "        return f'{self.string}'\n",
        "\n",
        "    def __iadd__(self, other):\n",
        "        return Doc(self.string + ' & ' + other.string)\n",
        " \n",
        " \n",
        "doc1 = Doc('sport')\n",
        "doc2 = Doc('activity')\n",
        "doc1 += doc2\n",
        "print(doc1)"
      ],
      "execution_count": 1,
      "outputs": [
        {
          "output_type": "stream",
          "text": [
            "sport & activity\n"
          ],
          "name": "stdout"
        }
      ]
    }
  ]
}
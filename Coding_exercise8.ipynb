{
  "nbformat": 4,
  "nbformat_minor": 0,
  "metadata": {
    "colab": {
      "name": "Coding_exercise8.ipynb",
      "provenance": [],
      "collapsed_sections": [],
      "authorship_tag": "ABX9TyMIEeLF27Z4I+LDa9NdnHFT",
      "include_colab_link": true
    },
    "kernelspec": {
      "name": "python3",
      "display_name": "Python 3"
    },
    "language_info": {
      "name": "python"
    }
  },
  "cells": [
    {
      "cell_type": "markdown",
      "metadata": {
        "id": "view-in-github",
        "colab_type": "text"
      },
      "source": [
        "<a href=\"https://colab.research.google.com/github/sebifilip/test-colab/blob/main/Coding_exercise8.ipynb\" target=\"_parent\"><img src=\"https://colab.research.google.com/assets/colab-badge.svg\" alt=\"Open In Colab\"/></a>"
      ]
    },
    {
      "cell_type": "code",
      "metadata": {
        "colab": {
          "base_uri": "https://localhost:8080/"
        },
        "id": "tN6M0uwZLMYh",
        "outputId": "3534c789-1819-475a-8c41-061a54d7fb6a"
      },
      "source": [
        "counter = 0\n",
        "dot_counter = ''\n",
        "\n",
        "\n",
        "def update_counter():\n",
        "    global counter, dot_counter\n",
        "    counter += 1\n",
        "    dot_counter += '.'\n",
        "\n",
        "\n",
        "for i in range(0, 40):\n",
        "    update_counter()\n",
        "print(counter)\n",
        "print(dot_counter)"
      ],
      "execution_count": 1,
      "outputs": [
        {
          "output_type": "stream",
          "text": [
            "40\n",
            "........................................\n"
          ],
          "name": "stdout"
        }
      ]
    }
  ]
}
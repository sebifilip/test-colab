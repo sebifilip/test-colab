{
  "nbformat": 4,
  "nbformat_minor": 0,
  "metadata": {
    "colab": {
      "name": "Coding_exercise64.ipynb",
      "provenance": [],
      "collapsed_sections": [],
      "authorship_tag": "ABX9TyOKp96r4g9yAzfsUGlCJOFI",
      "include_colab_link": true
    },
    "kernelspec": {
      "name": "python3",
      "display_name": "Python 3"
    },
    "language_info": {
      "name": "python"
    }
  },
  "cells": [
    {
      "cell_type": "markdown",
      "metadata": {
        "id": "view-in-github",
        "colab_type": "text"
      },
      "source": [
        "<a href=\"https://colab.research.google.com/github/sebifilip/test-colab/blob/main/Coding_exercise64.ipynb\" target=\"_parent\"><img src=\"https://colab.research.google.com/assets/colab-badge.svg\" alt=\"Open In Colab\"/></a>"
      ]
    },
    {
      "cell_type": "code",
      "metadata": {
        "colab": {
          "base_uri": "https://localhost:8080/"
        },
        "id": "YTmIg5TMzYJ9",
        "outputId": "e02dcdbe-5354-48a2-dcca-501cfd6cb5b6"
      },
      "source": [
        "class Person:\n",
        "\n",
        "    def __init__(self, first_name):\n",
        "        self._first_name = first_name\n",
        "\n",
        "    def get_first_name(self):\n",
        "        return self._first_name\n",
        "\n",
        "    def set_first_name(self, value):\n",
        "        self._first_name = value\n",
        "\n",
        "    def del_first_name(self):\n",
        "        del self._first_name\n",
        "\n",
        "    first_name = property(fget = get_first_name, fset = set_first_name, fdel = del_first_name)\n",
        "\n",
        "\n",
        "person = Person(\"Tom\")\n",
        "person.del_first_name()\n",
        "print(person.__dict__)"
      ],
      "execution_count": 2,
      "outputs": [
        {
          "output_type": "stream",
          "text": [
            "{}\n"
          ],
          "name": "stdout"
        }
      ]
    }
  ]
}
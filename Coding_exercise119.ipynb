{
  "nbformat": 4,
  "nbformat_minor": 0,
  "metadata": {
    "colab": {
      "name": "Coding_exercise119.ipynb",
      "provenance": [],
      "collapsed_sections": [],
      "authorship_tag": "ABX9TyO9o1aGEezLWZCGVpNBlc25",
      "include_colab_link": true
    },
    "kernelspec": {
      "name": "python3",
      "display_name": "Python 3"
    },
    "language_info": {
      "name": "python"
    }
  },
  "cells": [
    {
      "cell_type": "markdown",
      "metadata": {
        "id": "view-in-github",
        "colab_type": "text"
      },
      "source": [
        "<a href=\"https://colab.research.google.com/github/sebifilip/test-colab/blob/main/Coding_exercise119.ipynb\" target=\"_parent\"><img src=\"https://colab.research.google.com/assets/colab-badge.svg\" alt=\"Open In Colab\"/></a>"
      ]
    },
    {
      "cell_type": "code",
      "metadata": {
        "colab": {
          "base_uri": "https://localhost:8080/"
        },
        "id": "gWZuxqITkOxg",
        "outputId": "6453b50a-3507-4e0a-8d0b-c94922ef509f"
      },
      "source": [
        "class Person:\n",
        "    \n",
        "    def __init__(self, first_name, last_name, age):\n",
        "        self.first_name = first_name\n",
        "        self.last_name = last_name\n",
        "        self.age = age\n",
        "\n",
        "class Department:\n",
        "    pass\n",
        "\n",
        "\n",
        "class Worker(Person, Department):\n",
        "    pass\n",
        "\n",
        "\n",
        "worker = Worker('John', 'Doe', 35)\n",
        "print(worker.__dict__)\n"
      ],
      "execution_count": 1,
      "outputs": [
        {
          "output_type": "stream",
          "text": [
            "{'first_name': 'John', 'last_name': 'Doe', 'age': 35}\n"
          ],
          "name": "stdout"
        }
      ]
    }
  ]
}
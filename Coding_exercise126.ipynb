{
  "nbformat": 4,
  "nbformat_minor": 0,
  "metadata": {
    "colab": {
      "name": "Coding_exercise126.ipynb",
      "provenance": [],
      "collapsed_sections": [],
      "authorship_tag": "ABX9TyND3+6tMcG/ethBWivtK2iL",
      "include_colab_link": true
    },
    "kernelspec": {
      "name": "python3",
      "display_name": "Python 3"
    },
    "language_info": {
      "name": "python"
    }
  },
  "cells": [
    {
      "cell_type": "markdown",
      "metadata": {
        "id": "view-in-github",
        "colab_type": "text"
      },
      "source": [
        "<a href=\"https://colab.research.google.com/github/sebifilip/test-colab/blob/main/Coding_exercise126.ipynb\" target=\"_parent\"><img src=\"https://colab.research.google.com/assets/colab-badge.svg\" alt=\"Open In Colab\"/></a>"
      ]
    },
    {
      "cell_type": "code",
      "metadata": {
        "colab": {
          "base_uri": "https://localhost:8080/"
        },
        "id": "b3R2coOQHyuq",
        "outputId": "243838a1-0abf-4bc8-ae60-09b0da1a11be"
      },
      "source": [
        "from abc import ABC, abstractmethod\n",
        "\n",
        "\n",
        "class TaxPayer(ABC):\n",
        "\n",
        "    def __init__(self, salary):\n",
        "        self.salary = salary\n",
        "\n",
        "    @abstractmethod\n",
        "    def calculate_tax(self):\n",
        "        pass\n",
        "\n",
        "\n",
        "class StudentTaxPayer(TaxPayer):\n",
        " \n",
        "    def calculate_tax(self):\n",
        "        return self.salary * 0.15\n",
        " \n",
        " \n",
        "student = StudentTaxPayer(40000)\n",
        "print(student.calculate_tax())"
      ],
      "execution_count": 1,
      "outputs": [
        {
          "output_type": "stream",
          "text": [
            "6000.0\n"
          ],
          "name": "stdout"
        }
      ]
    }
  ]
}